{
 "cells": [
  {
   "cell_type": "markdown",
   "metadata": {},
   "source": [
    "# Preparing an AF state in the Ising model\n",
    "\n",
    "This purpose of this notebook is to illustrate how to build a sequence for preparing an AF state in the Ising model. This notebook is supposed to evolve with code updates. "
   ]
  },
  {
   "cell_type": "code",
   "execution_count": 1,
   "metadata": {},
   "outputs": [],
   "source": [
    "import numpy as np\n",
    "\n",
    "from waveforms import ConstantWaveform, RampWaveform\n",
    "from devices import Chadoq2\n",
    "from sequences import Sequence\n",
    "from pulses import Pulse"
   ]
  },
  {
   "cell_type": "markdown",
   "metadata": {},
   "source": [
    "## Initializing my device"
   ]
  },
  {
   "cell_type": "code",
   "execution_count": 2,
   "metadata": {},
   "outputs": [],
   "source": [
    "line_qubits ={'q'+ str(j): (0., 5*j) for j in range(6)}\n",
    "# Do we need a way to create standard lattices, just like in cirq ?"
   ]
  },
  {
   "cell_type": "code",
   "execution_count": 3,
   "metadata": {},
   "outputs": [
    {
     "name": "stdout",
     "output_type": "stream",
     "text": [
      "{'q0': (0.0, 0), 'q1': (0.0, 5), 'q2': (0.0, 10), 'q3': (0.0, 15), 'q4': (0.0, 20), 'q5': (0.0, 25)}\n",
      "Chadoq2\n"
     ]
    }
   ],
   "source": [
    "my_device = Chadoq2(line_qubits) \n",
    "print(my_device.qubits)\n",
    "print(my_device.name)"
   ]
  },
  {
   "cell_type": "markdown",
   "metadata": {},
   "source": [
    "## Defining my waveforms \n",
    "\n",
    "We are realizing the following program![AF_Ising_program.png](files/AF_Ising_program.png)"
   ]
  },
  {
   "cell_type": "code",
   "execution_count": 15,
   "metadata": {},
   "outputs": [],
   "source": [
    "# Parameters in MHz and ns\n",
    "delta_0 = -8 \n",
    "delta_f = 4  \n",
    "Omega_max = 1.2 \n",
    "t_rise = 250\n",
    "t_fall = 250\n",
    "t_sweep = (delta_f-delta_0)/(2*np.pi*10) * 1000\n",
    "pulses= [] "
   ]
  },
  {
   "cell_type": "code",
   "execution_count": 16,
   "metadata": {},
   "outputs": [],
   "source": [
    "detuning_waveform = ConstantWaveform(t_rise, delta_0)\n",
    "rabi_waveform = RampWaveform(t_rise, 0., Omega_max)\n",
    "\n",
    "pulses.append(Pulse(t_rise, rabi_waveform, detuning_waveform, 0.))"
   ]
  },
  {
   "cell_type": "code",
   "execution_count": 17,
   "metadata": {},
   "outputs": [],
   "source": [
    "detuning_waveform = RampWaveform(t_sweep, delta_0, delta_f)\n",
    "rabi_waveform = ConstantWaveform(t_sweep, Omega_max)\n",
    "\n",
    "pulses.append(Pulse(t_sweep, rabi_waveform, detuning_waveform, 0.))"
   ]
  },
  {
   "cell_type": "code",
   "execution_count": 18,
   "metadata": {},
   "outputs": [],
   "source": [
    "detuning_waveform = ConstantWaveform(t_fall, delta_f)\n",
    "rabi_waveform = RampWaveform(t_fall, Omega_max, 0.)\n",
    "\n",
    "pulses.append(Pulse(t_fall, rabi_waveform, detuning_waveform, 0.))"
   ]
  },
  {
   "cell_type": "markdown",
   "metadata": {},
   "source": [
    "## Creating my sequence"
   ]
  },
  {
   "cell_type": "code",
   "execution_count": 19,
   "metadata": {},
   "outputs": [],
   "source": [
    "af_sequence = Sequence(my_device)"
   ]
  },
  {
   "cell_type": "code",
   "execution_count": 20,
   "metadata": {},
   "outputs": [
    {
     "data": {
      "text/plain": [
       "{'rydberg_global': Rydberg(global, Max Absolute Detuning: 50 MHz, Max Amplitude: 1.25 MHz),\n",
       " 'rydberg_local': Rydberg(local, Max Absolute Detuning: 50 MHz, Max Amplitude: 10 MHz, Target time: 100 ns),\n",
       " 'rydberg_local2': Rydberg(local, Max Absolute Detuning: 50 MHz, Max Amplitude: 10 MHz, Target time: 100 ns),\n",
       " 'raman_local': Raman(local, Max Absolute Detuning: 50 MHz, Max Amplitude: 10 MHz, Target time: 100 ns)}"
      ]
     },
     "execution_count": 20,
     "metadata": {},
     "output_type": "execute_result"
    }
   ],
   "source": [
    "af_sequence.available_channels"
   ]
  },
  {
   "cell_type": "code",
   "execution_count": 23,
   "metadata": {},
   "outputs": [],
   "source": [
    "## Are we sure about the values here ?"
   ]
  },
  {
   "cell_type": "code",
   "execution_count": 21,
   "metadata": {},
   "outputs": [],
   "source": [
    "af_sequence.declare_channel('Ising_channel', 'rydberg_global')"
   ]
  },
  {
   "cell_type": "code",
   "execution_count": 22,
   "metadata": {},
   "outputs": [],
   "source": [
    "for pulse in pulses:\n",
    "    af_sequence.add(pulse, 'Ising_channel')"
   ]
  },
  {
   "cell_type": "code",
   "execution_count": 25,
   "metadata": {},
   "outputs": [
    {
     "name": "stdout",
     "output_type": "stream",
     "text": [
      "Channel: Ising_channel\n",
      "t: 0 | Initial targets: {'q3', 'q0', 'q1', 'q4', 'q2', 'q5'}\n",
      "t: 0->250 | Pulse(Amp=[0.0->1.2]MHz, Detuning=-8.0MHz, Phase=0.0) | Targets: {'q3', 'q0', 'q1', 'q4', 'q2', 'q5'}\n",
      "t: 250->440 | Pulse(Amp=1.2MHz, Detuning=[-8.0->4.0]MHz, Phase=0.0) | Targets: {'q3', 'q0', 'q1', 'q4', 'q2', 'q5'}\n",
      "t: 440->690 | Pulse(Amp=[1.2->0.0]MHz, Detuning=4.0MHz, Phase=0.0) | Targets: {'q3', 'q0', 'q1', 'q4', 'q2', 'q5'}\n",
      "\n",
      "\n"
     ]
    }
   ],
   "source": [
    "print(af_sequence)\n",
    "# That would be great to have plotting capabilities here"
   ]
  },
  {
   "cell_type": "code",
   "execution_count": null,
   "metadata": {},
   "outputs": [],
   "source": []
  }
 ],
 "metadata": {
  "kernelspec": {
   "display_name": "env-pasqal-qutip",
   "language": "python",
   "name": "env-pasqal-qutip"
  },
  "language_info": {
   "codemirror_mode": {
    "name": "ipython",
    "version": 3
   },
   "file_extension": ".py",
   "mimetype": "text/x-python",
   "name": "python",
   "nbconvert_exporter": "python",
   "pygments_lexer": "ipython3",
   "version": "3.8.5"
  }
 },
 "nbformat": 4,
 "nbformat_minor": 4
}
