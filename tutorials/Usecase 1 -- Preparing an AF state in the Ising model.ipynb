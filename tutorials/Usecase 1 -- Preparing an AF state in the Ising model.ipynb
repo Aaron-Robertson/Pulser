{
 "cells": [
  {
   "cell_type": "code",
   "execution_count": 1,
   "metadata": {},
   "outputs": [],
   "source": [
    "try:\n",
    "    import pulser\n",
    "except ModuleNotFoundError:\n",
    "    import sys\n",
    "    sys.path.insert(1, '../')"
   ]
  },
  {
   "cell_type": "markdown",
   "metadata": {},
   "source": [
    "# Preparing an AF state in the Ising model\n",
    "\n",
    "This purpose of this notebook is to illustrate how to build a sequence for preparing an AF state in the Ising model. This notebook is supposed to evolve with code updates. "
   ]
  },
  {
   "cell_type": "code",
   "execution_count": 2,
   "metadata": {},
   "outputs": [],
   "source": [
    "import numpy as np\n",
    "\n",
    "from pulser import Pulse, Sequence, Register\n",
    "from pulser.waveforms import ConstantWaveform, RampWaveform\n",
    "from pulser.devices import Chadoq2"
   ]
  },
  {
   "cell_type": "markdown",
   "metadata": {},
   "source": [
    "## Initializing my device"
   ]
  },
  {
   "cell_type": "code",
   "execution_count": 3,
   "metadata": {},
   "outputs": [
    {
     "data": {
      "image/png": "[encoded data removed]",
      "text/plain": [
       "<Figure size 450x36 with 1 Axes>"
      ]
     },
     "metadata": {
      "needs_background": "light"
     },
     "output_type": "display_data"
    }
   ],
   "source": [
    "line_qubits = Register.rectangle(1, 6, spacing=5, prefix='q')\n",
    "line_qubits.draw()"
   ]
  },
  {
   "cell_type": "code",
   "execution_count": 4,
   "metadata": {},
   "outputs": [
    {
     "name": "stdout",
     "output_type": "stream",
     "text": [
      "{'q0': array([-12.5,   0. ]), 'q1': array([-7.5,  0. ]), 'q2': array([-2.5,  0. ]), 'q3': array([2.5, 0. ]), 'q4': array([7.5, 0. ]), 'q5': array([12.5,  0. ])}\n",
      "Chadoq2\n"
     ]
    }
   ],
   "source": [
    "my_device = Chadoq2(line_qubits) \n",
    "print(my_device.qubits)\n",
    "print(my_device.name)"
   ]
  },
  {
   "cell_type": "markdown",
   "metadata": {},
   "source": [
    "## Defining my waveforms \n",
    "\n",
    "We are realizing the following program![AF_Ising_program.png](files/AF_Ising_program.png)"
   ]
  },
  {
   "cell_type": "code",
   "execution_count": 5,
   "metadata": {},
   "outputs": [],
   "source": [
    "# Parameters in MHz and ns\n",
    "delta_0 = -8 \n",
    "delta_f = 4  \n",
    "Omega_max = 1.2 \n",
    "t_rise = 250\n",
    "t_fall = 250\n",
    "t_sweep = (delta_f-delta_0)/(2*np.pi*10) * 1000\n",
    "pulses= [] "
   ]
  },
  {
   "cell_type": "code",
   "execution_count": 6,
   "metadata": {},
   "outputs": [
    {
     "name": "stdout",
     "output_type": "stream",
     "text": [
      "Pulse(Amp=Ramp(0->1.2 MHz), Detuning=-8 MHz, Phase=0)\n"
     ]
    }
   ],
   "source": [
    "rabi_waveform = RampWaveform(t_rise, 0., Omega_max)\n",
    "pulses.append(Pulse.ConstantDetuning(rabi_waveform, delta_0, 0.))\n",
    "print(Pulse.ConstantDetuning(rabi_waveform, delta_0, 0.))"
   ]
  },
  {
   "cell_type": "code",
   "execution_count": 7,
   "metadata": {},
   "outputs": [
    {
     "name": "stderr",
     "output_type": "stream",
     "text": [
      "../pulser/utils.py:21: UserWarning: The given duration is below the machine's precision of 1 ns time steps. It was rounded down to the nearest integer.\n",
      "  warnings.warn(\"The given duration is below the machine's precision\"\n"
     ]
    }
   ],
   "source": [
    "detuning_waveform = RampWaveform(t_sweep, delta_0, delta_f)\n",
    "pulses.append(Pulse.ConstantAmplitude(Omega_max, detuning_waveform, 0.))"
   ]
  },
  {
   "cell_type": "code",
   "execution_count": 8,
   "metadata": {},
   "outputs": [],
   "source": [
    "rabi_waveform = RampWaveform(t_fall, Omega_max, 0.)\n",
    "pulses.append(Pulse.ConstantDetuning(rabi_waveform, delta_f, 0.))"
   ]
  },
  {
   "cell_type": "markdown",
   "metadata": {},
   "source": [
    "## Creating my sequence"
   ]
  },
  {
   "cell_type": "code",
   "execution_count": 9,
   "metadata": {},
   "outputs": [],
   "source": [
    "af_sequence = Sequence(my_device)"
   ]
  },
  {
   "cell_type": "code",
   "execution_count": 10,
   "metadata": {},
   "outputs": [
    {
     "data": {
      "text/plain": [
       "{'rydberg_global': Rydberg(global, Max Absolute Detuning: 50 MHz, Max Amplitude: 2.5 MHz, Basis: 'ground-rydberg'),\n",
       " 'rydberg_local': Rydberg(local, Max Absolute Detuning: 50 MHz, Max Amplitude: 10 MHz, Target time: 100 ns, Basis: 'ground-rydberg'),\n",
       " 'rydberg_local2': Rydberg(local, Max Absolute Detuning: 50 MHz, Max Amplitude: 10 MHz, Target time: 100 ns, Basis: 'ground-rydberg'),\n",
       " 'raman_local': Raman(local, Max Absolute Detuning: 50 MHz, Max Amplitude: 10 MHz, Target time: 100 ns, Basis: 'digital')}"
      ]
     },
     "execution_count": 10,
     "metadata": {},
     "output_type": "execute_result"
    }
   ],
   "source": [
    "af_sequence.available_channels"
   ]
  },
  {
   "cell_type": "code",
   "execution_count": 11,
   "metadata": {},
   "outputs": [],
   "source": [
    "## Are we sure about the values here ?"
   ]
  },
  {
   "cell_type": "code",
   "execution_count": 12,
   "metadata": {},
   "outputs": [],
   "source": [
    "af_sequence.declare_channel('Ising_channel', 'rydberg_global')"
   ]
  },
  {
   "cell_type": "code",
   "execution_count": 13,
   "metadata": {},
   "outputs": [
    {
     "name": "stdout",
     "output_type": "stream",
     "text": [
      "Pulse(Amp=Ramp(0->1.2 MHz), Detuning=-8 MHz, Phase=0)\n",
      "Pulse(Amp=1.2 MHz, Detuning=Ramp(-8->4 MHz), Phase=0)\n",
      "Pulse(Amp=Ramp(1.2->0 MHz), Detuning=4 MHz, Phase=0)\n"
     ]
    }
   ],
   "source": [
    "for pulse in pulses:\n",
    "    print(pulse)\n",
    "    af_sequence.add(pulse, 'Ising_channel')"
   ]
  },
  {
   "cell_type": "code",
   "execution_count": 14,
   "metadata": {},
   "outputs": [
    {
     "name": "stdout",
     "output_type": "stream",
     "text": [
      "Channel: Ising_channel\n",
      "t: 0 | Initial targets: q3, q4, q2, q0, q1, q5 | Phase Reference: 0.0 \n",
      "t: 0->250 | Pulse(Amp=Ramp(0->1.2 MHz), Detuning=-8 MHz, Phase=0) | Targets: q3, q4, q2, q0, q1, q5\n",
      "t: 250->440 | Pulse(Amp=1.2 MHz, Detuning=Ramp(-8->4 MHz), Phase=0) | Targets: q3, q4, q2, q0, q1, q5\n",
      "t: 440->690 | Pulse(Amp=Ramp(1.2->0 MHz), Detuning=4 MHz, Phase=0) | Targets: q3, q4, q2, q0, q1, q5\n",
      "\n",
      "\n"
     ]
    },
    {
     "data": {
      "image/png": "[encoded data removed]",
      "text/plain": [
       "<Figure size 1440x324 with 3 Axes>"
      ]
     },
     "metadata": {},
     "output_type": "display_data"
    }
   ],
   "source": [
    "print(af_sequence)\n",
    "af_sequence.draw()"
   ]
  }
 ],
 "metadata": {
  "kernelspec": {
   "display_name": "Python 3",
   "language": "python",
   "name": "python3"
  },
  "language_info": {
   "codemirror_mode": {
    "name": "ipython",
    "version": 3
   },
   "file_extension": ".py",
   "mimetype": "text/x-python",
   "name": "python",
   "nbconvert_exporter": "python",
   "pygments_lexer": "ipython3",
   "version": "3.7.3"
  }
 },
 "nbformat": 4,
 "nbformat_minor": 4
}
