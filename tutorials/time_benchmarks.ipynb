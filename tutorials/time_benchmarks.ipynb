{
 "cells": [
  {
   "cell_type": "code",
   "execution_count": 1,
   "metadata": {},
   "outputs": [],
   "source": [
    "from pulser import Pulse, Sequence, Register\n",
    "from pulser.devices import Chadoq2\n",
    "from pulser.waveforms import RampWaveform, GaussianWaveform\n",
    "\n",
    "import matplotlib.pyplot as plt\n",
    "import numpy as np"
   ]
  },
  {
   "cell_type": "code",
   "execution_count": 2,
   "metadata": {},
   "outputs": [
    {
     "name": "stdout",
     "output_type": "stream",
     "text": [
      "simulation module...\n"
     ]
    }
   ],
   "source": [
    "from simulation import Simulation\n",
    "import timeit"
   ]
  },
  {
   "cell_type": "code",
   "execution_count": 3,
   "metadata": {},
   "outputs": [],
   "source": [
    "number_atoms = 4\n",
    "reg = Register.rectangle(1, number_atoms, spacing=4.9,prefix='q')\n",
    "device = Chadoq2(reg) \n",
    "#reg.draw()\n",
    "\n",
    "#Define sequence and Set channels\n",
    "seq = Sequence(device)\n",
    "seq.declare_channel('local', 'raman_local')\n",
    "seq.declare_channel('global', 'rydberg_global')\n",
    "\n",
    "duration = 300\n",
    "amp_wf = GaussianWaveform(duration, 1, 150)   # Duration: 300 ns, Max Amp: 1 MHz, Stdev: 150 ns\n",
    "detuning_wf = RampWaveform(duration, -20, 20)  # Duration: 300 ns, linear sweep from -20 to 20 MHz\n",
    "\n",
    "complex_pulse = Pulse(amp_wf, detuning_wf, phase=20)\n",
    "#complex_pulse.draw()\n",
    "\n",
    "seq.target('q1','local')\n",
    "seq.add(complex_pulse, 'local')\n",
    "seq.add(complex_pulse, 'global')\n",
    "#seq.draw()\n",
    "\n",
    "simul = Simulation(seq)"
   ]
  },
  {
   "cell_type": "code",
   "execution_count": 4,
   "metadata": {},
   "outputs": [],
   "source": [
    "\n",
    "def qubits_benchmark(N):\n",
    "    number_atoms = N\n",
    "    reg = Register.rectangle(1, number_atoms, spacing=4.9,prefix='q')\n",
    "    device = Chadoq2(reg) \n",
    "    #reg.draw()\n",
    "\n",
    "    #Define sequence and Set channels\n",
    "    seq = Sequence(device)\n",
    "    seq.declare_channel('local', 'raman_local')\n",
    "    seq.declare_channel('global', 'rydberg_global')\n",
    "\n",
    "    duration = 300\n",
    "    amp_wf = GaussianWaveform(duration, 1, 150)   # Duration: 300 ns, Max Amp: 1 MHz, Stdev: 150 ns\n",
    "    detuning_wf = RampWaveform(duration, -20, 20)  # Duration: 300ns, linear sweep from -20 to 20 MHz\n",
    "\n",
    "    complex_pulse = Pulse(amp_wf, detuning_wf, phase=20)\n",
    "    #complex_pulse.draw()\n",
    "\n",
    "    seq.target('q1','local')\n",
    "    seq.add(complex_pulse, 'local')\n",
    "    seq.add(complex_pulse, 'global')\n",
    "    #seq.draw()\n",
    "    \n",
    "    simul = Simulation(seq)\n",
    "    \n",
    "    #Create desired observable\n",
    "    ryd_Z = simul._operators['sigma_rr'] - simul._operators['sigma_gg']\n",
    "    for qubit in reg.qubits:\n",
    "        observable = simul._build_local_operator(ryd_Z,qubit)\n",
    "    \n",
    "    #Run simulation experiment\n",
    "    simul.run(observable,plot=False)\n",
    "    \n",
    "def sequence_benchmark(N):\n",
    "    number_atoms = 2\n",
    "    reg = Register.rectangle(1, number_atoms, spacing=4.9,prefix='q')\n",
    "    device = Chadoq2(reg) \n",
    "    #reg.draw()\n",
    "\n",
    "    #Define sequence and Set channels\n",
    "    seq = Sequence(device)\n",
    "    seq.declare_channel('local', 'raman_local')\n",
    "    seq.declare_channel('global', 'rydberg_global')\n",
    "\n",
    "    duration = 200\n",
    "    amp_wf = GaussianWaveform(duration, 1, 150)   \n",
    "    detuning_wf = RampWaveform(duration, -20, 20)  \n",
    "\n",
    "    complex_pulse = Pulse(amp_wf, detuning_wf, phase=20)\n",
    "    #complex_pulse.draw()\n",
    "\n",
    "    seq.target('q1','local')\n",
    "    for _ in range(N):\n",
    "        seq.add(complex_pulse, 'local')\n",
    "        seq.add(complex_pulse, 'global')\n",
    "        #seq.draw()    \n",
    "        \n",
    "    simul = Simulation(seq)\n",
    "\n",
    "    #Create desired observable\n",
    "    ryd_Z = simul._operators['rydZ']\n",
    "    for qubit in reg.qubits:\n",
    "        observable = simul._build_local_operator(ryd_Z,qubit)\n",
    "    \n",
    "\n",
    "    #Run simulation experiment\n",
    "    simul.run(observable,plot=False)"
   ]
  },
  {
   "cell_type": "markdown",
   "metadata": {},
   "source": [
    "# Simulation time for increasing number of atoms"
   ]
  },
  {
   "cell_type": "code",
   "execution_count": 5,
   "metadata": {},
   "outputs": [
    {
     "name": "stdout",
     "output_type": "stream",
     "text": [
      "Number of qubits: 2\n",
      "548 ms ± 5.52 ms per loop (mean ± std. dev. of 7 runs, 1 loop each)\n",
      "Number of qubits: 3\n",
      "1.15 s ± 10.5 ms per loop (mean ± std. dev. of 7 runs, 1 loop each)\n",
      "Number of qubits: 4\n",
      "2.54 s ± 55.6 ms per loop (mean ± std. dev. of 7 runs, 1 loop each)\n",
      "Number of qubits: 5\n",
      "7.19 s ± 307 ms per loop (mean ± std. dev. of 7 runs, 1 loop each)\n",
      "Number of qubits: 6\n",
      "26.9 s ± 612 ms per loop (mean ± std. dev. of 7 runs, 1 loop each)\n",
      "Number of qubits: 7\n",
      "1min 34s ± 4.32 s per loop (mean ± std. dev. of 7 runs, 1 loop each)\n"
     ]
    }
   ],
   "source": [
    "results = []\n",
    "\n",
    "for k in range(2,8):\n",
    "    print(f'Number of qubits: {k}')\n",
    "    times = %timeit -o qubits_benchmark(k)\n",
    "    results.append(times)"
   ]
  },
  {
   "cell_type": "code",
   "execution_count": 6,
   "metadata": {},
   "outputs": [
    {
     "data": {
      "text/plain": [
       "[<matplotlib.lines.Line2D at 0x7f8ea63262b0>]"
      ]
     },
     "execution_count": 6,
     "metadata": {},
     "output_type": "execute_result"
    },
    {
     "data": {
      "image/png": "[encoded data removed]",
      "text/plain": [
       "<Figure size 432x288 with 1 Axes>"
      ]
     },
     "metadata": {
      "needs_background": "light"
     },
     "output_type": "display_data"
    }
   ],
   "source": [
    "mean_times = [r.average for r in results]\n",
    "plt.loglog(3**np.arange(2,8),mean_times,'o')\n",
    "plt.loglog(3**np.linspace(1,8,30),0.001*np.exp(1.5*(np.linspace(1,8,30))),'grey',lw=5,alpha=0.3)"
   ]
  },
  {
   "cell_type": "markdown",
   "metadata": {},
   "source": [
    "# Simulation time for increasing depth of sequence"
   ]
  },
  {
   "cell_type": "code",
   "execution_count": null,
   "metadata": {},
   "outputs": [],
   "source": [
    "depth_results = []\n",
    "\n",
    "for k in range(1,5):\n",
    "    print(f'Number of pulses = {2*k}')\n",
    "    times = %timeit -o sequence_benchmark(k)\n",
    "    depth_results.append(times)"
   ]
  },
  {
   "cell_type": "code",
   "execution_count": null,
   "metadata": {},
   "outputs": [],
   "source": [
    "depth_btimes = [r.average for r in depth_results]\n",
    "plt.plot(np.arange(1,5),depth_times)"
   ]
  }
 ],
 "metadata": {
  "kernelspec": {
   "display_name": "Python 3",
   "language": "python",
   "name": "python3"
  },
  "language_info": {
   "codemirror_mode": {
    "name": "ipython",
    "version": 3
   },
   "file_extension": ".py",
   "mimetype": "text/x-python",
   "name": "python",
   "nbconvert_exporter": "python",
   "pygments_lexer": "ipython3",
   "version": "3.9.0"
  }
 },
 "nbformat": 4,
 "nbformat_minor": 4
}
