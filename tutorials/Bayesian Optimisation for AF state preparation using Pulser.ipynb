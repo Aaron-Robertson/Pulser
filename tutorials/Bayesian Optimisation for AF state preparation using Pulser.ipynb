{
 "cells": [
  {
   "cell_type": "markdown",
   "metadata": {},
   "source": [
    "# Optimal control for AF state using Pulser.\n",
    "## Objective\n",
    "The following notebook gives an overview of the application of an optimal control method using Pulser. The announced objective is to achieve the preparation of the well-known antiferromagnetic state - see tutorial _Preparing an AF state in the Ising model_ - on a squared configuration of neutral atoms using optimised pulses smoother than the usual ramps. We define by AF state an equal mixture of the two \"checkerboard\" spin states. \n",
    "\n",
    "<img src=\"files/AFstate.png\" alt=\"AFgrid\" style=\"width: 500px;\"/>\n"
   ]
  },
  {
   "cell_type": "markdown",
   "metadata": {},
   "source": [
    "We begin by importing some basic modules as well as an optimisation function based on Gaussian processes `gp_minimize` and an interpolation function `PchipInterpolator`. In addition, this notebook uses the `scikit-optimize` packade, which has to be installed beforehand."
   ]
  },
  {
   "cell_type": "code",
   "execution_count": null,
   "metadata": {},
   "outputs": [],
   "source": [
    "import numpy as np\n",
    "import matplotlib.pyplot as plt\n",
    "import qutip\n",
    "import time\n",
    "\n",
    "from pulser import Pulse, Sequence, Register, Simulation\n",
    "from pulser.waveforms import ConstantWaveform, RampWaveform, CustomWaveform\n",
    "from pulser.devices import Chadoq2\n",
    "\n",
    "from scipy.interpolate import PchipInterpolator\n",
    "from skopt import gp_minimize\n",
    "from skopt import callbacks"
   ]
  },
  {
   "cell_type": "markdown",
   "metadata": {},
   "source": [
    "## System and Parameters\n",
    "The parameters which will bound the parameter space during the optimisation are chosen as in _Preparing an AF state in the Ising model_. A squared register of $3\\times 3$ atoms is created."
   ]
  },
  {
   "cell_type": "code",
   "execution_count": null,
   "metadata": {},
   "outputs": [],
   "source": [
    "# Parameters in MHz and ns\n",
    "U = 2 * np.pi * 1.0\n",
    "\n",
    "Omega_max = 2.3 * U \n",
    "\n",
    "delta_0 = -6 * U \n",
    "delta_f = 2. * U \n",
    "\n",
    "R_interatomic = Chadoq2.rydberg_blockade_radius(U)\n",
    "\n",
    "N_side = 3\n",
    "reg = Register.rectangle(N_side, N_side, R_interatomic, prefix='q')\n",
    "N=len(reg._ids)\n",
    "print(f'Interatomic Radius is: {R_interatomic}µm.')\n",
    "reg.draw()"
   ]
  },
  {
   "cell_type": "code",
   "execution_count": null,
   "metadata": {},
   "outputs": [],
   "source": [
    "# Duration of simulation (in ns)\n",
    "T= 2000\n",
    "time_domain=np.linspace(0, T, T)"
   ]
  },
  {
   "cell_type": "markdown",
   "metadata": {},
   "source": [
    "A channel is declared on the Chadoq2 device in order to check the maximum amplitude reachable."
   ]
  },
  {
   "cell_type": "code",
   "execution_count": null,
   "metadata": {},
   "outputs": [],
   "source": [
    "seq = Sequence(reg, Chadoq2)\n",
    "seq.declare_channel('ising', 'rydberg_global')\n",
    "\n",
    "# The maximum amplitude needs to be reachable on the chosen device\n",
    "Omega_max=min([seq.declared_channels['ising'].max_amp, Omega_max])"
   ]
  },
  {
   "cell_type": "markdown",
   "metadata": {},
   "source": [
    "## Interpolated pulses\n",
    "The parameters fed to the optimisation algorithm must uniquely define $\\Omega$ and $\\delta$. Interpolated pulses, once the interpolation method has been set, can be fully described by $2m$ parameters, which are $\\{\\Omega(t_i),\\delta(t_i), i\\in[1,m]\\}$ with $t_i=T\\times i/(m+1)$. The larger $m$ is, the more complex the pulse behaviour could be but also the more resources are needed since the parameters space is expanding. Here, the interpolation is done with monotonic cubic splines using `PchipInterpolator`. \n",
    "\n",
    "<img src=\"files/interpolated_pulses.png\" alt=\"Interpolated pulses\" style=\"width: 800px;\"/>"
   ]
  },
  {
   "cell_type": "markdown",
   "metadata": {},
   "source": [
    "We create a random instance of interpolated pulse using Pulser. "
   ]
  },
  {
   "cell_type": "code",
   "execution_count": null,
   "metadata": {},
   "outputs": [],
   "source": [
    "# Size of the parameter space\n",
    "m=5\n",
    "\n",
    "# Random instance of the parameter space \n",
    "para = (Omega_max*np.random.rand(m)).tolist()+((delta_f-delta_0)*np.random.rand(m)+delta_0).tolist()"
   ]
  },
  {
   "cell_type": "markdown",
   "metadata": {},
   "source": [
    "We define an interpolation function which takes as argument a set of parameters and returns the interpolated pulses associated. "
   ]
  },
  {
   "cell_type": "code",
   "execution_count": null,
   "metadata": {},
   "outputs": [],
   "source": [
    "def interp_pulse_functions(Omega_pts,delta_pts,T):\n",
    "    m=len(Omega_pts)\n",
    "    ti=np.linspace(0,T,m)\n",
    "\n",
    "    cso = PchipInterpolator(ti,np.array(Omega_pts))\n",
    "    csd = PchipInterpolator(ti,np.array(delta_pts))\n",
    "    def Omega(t,*args):\n",
    "        return cso(t)\n",
    "    def delta(t,*args):\n",
    "        return csd(t)\n",
    "    return Omega,delta"
   ]
  },
  {
   "cell_type": "code",
   "execution_count": null,
   "metadata": {},
   "outputs": [],
   "source": [
    "def create_interp_pulse(para):\n",
    "    Omega_pts = np.array([1e-9] + para[:m] + [1e-9])\n",
    "    delta_pts = np.array([delta_0] + para[m:] + [delta_f])\n",
    "    Omega_func, delta_func = interp_pulse_functions(Omega_pts, delta_pts,T)\n",
    "    Omega,delta=np.array(Omega_func(time_domain)),np.array(delta_func(time_domain))\n",
    "    P=Pulse(CustomWaveform(Omega),CustomWaveform(delta),0)\n",
    "    return P"
   ]
  },
  {
   "cell_type": "markdown",
   "metadata": {},
   "source": [
    "Using Pulser, we define a Sequence on the Chadoq2 device and add the pulse to it. We can also visualize it.  "
   ]
  },
  {
   "cell_type": "code",
   "execution_count": null,
   "metadata": {},
   "outputs": [],
   "source": [
    "seq = Sequence(reg, Chadoq2)\n",
    "seq.declare_channel('ising', 'rydberg_global')\n",
    "seq.add(create_interp_pulse(para),'ising')\n",
    "seq.draw()"
   ]
  },
  {
   "cell_type": "markdown",
   "metadata": {},
   "source": [
    "If we simulate the effect of the sequence on the system we obtain the final state. With each set of parameters, a state of the system can be obtained.  "
   ]
  },
  {
   "cell_type": "code",
   "execution_count": null,
   "metadata": {},
   "outputs": [],
   "source": [
    "simul = Simulation(seq)\n",
    "results = simul.run()\n",
    "final = results.states[-1]"
   ]
  },
  {
   "cell_type": "markdown",
   "metadata": {},
   "source": [
    "Once the first optimised pulse shapes are obtained, it is worth adding constraints to the interpolated shapes such as strict growth or derivative limitation to further guide the optimisation.   "
   ]
  },
  {
   "cell_type": "markdown",
   "metadata": {},
   "source": [
    "## Structural factor"
   ]
  },
  {
   "cell_type": "markdown",
   "metadata": {},
   "source": [
    "In order for the optimisation algorithm to distinguish between these states and thus to browse the parameter space in search of an optimal shape of pulse, we need to assign a score to each set based on the state it allows us to reach. With the algorithm set to look for minimum, the AF state should have a score of 0 and all other states strictly positive score. The score will be defined based on the Néel structure factor $S_{Néel}$ defined in the tutorial _Preparing an AF state in the Ising model_ since we want an observable accessible by the processor. "
   ]
  },
  {
   "cell_type": "code",
   "execution_count": null,
   "metadata": {},
   "outputs": [],
   "source": [
    "def occupation(j, N):\n",
    "    up = qutip.basis(2,0)\n",
    "    prod = [qutip.qeye(2) for _ in range(N)]\n",
    "    prod[j] = up * up.dag()\n",
    "    return qutip.tensor(prod)\n",
    "\n",
    "def get_corr_pairs(k, l, register, R_interatomic):\n",
    "    corr_pairs = []\n",
    "    for i, qi in enumerate(register.qubits):\n",
    "        for j, qj in enumerate(register.qubits):\n",
    "            r_ij = register.qubits[qi]-register.qubits[qj]\n",
    "            distance = np.linalg.norm(r_ij - R_interatomic*np.array([k, l]))\n",
    "            if distance < 1:\n",
    "                corr_pairs.append([i, j])\n",
    "    return corr_pairs\n",
    "\n",
    "def get_corr_function(k, l, reg, R_interatomic, state):\n",
    "    N_qubits = len(reg.qubits)\n",
    "    corr_pairs = get_corr_pairs(k, l, reg, R_interatomic)\n",
    "    \n",
    "    operators = [occupation(j, N_qubits) for j in range(N_qubits)]\n",
    "    covariance = 0\n",
    "    for qi, qj in corr_pairs:\n",
    "        covariance += qutip.expect(operators[qi]*operators[qj], state)\n",
    "        covariance -= qutip.expect(operators[qi], state)*qutip.expect(operators[qj], state)\n",
    "    return covariance/len(corr_pairs)   \n",
    "\n",
    "def get_full_corr_function(reg, state):\n",
    "    N_qubits = len(reg.qubits)\n",
    "    \n",
    "    correlation_function = {}\n",
    "    N_side = int(np.sqrt(N_qubits))\n",
    "    for k in range(-N_side+1, N_side):\n",
    "        for l in range(-N_side+1, N_side):\n",
    "            correlation_function[(k, l)] = get_corr_function(k, l, reg, R_interatomic, state)\n",
    "    return correlation_function\n",
    "\n",
    "def get_neel_structure_factor(reg, R_interatomic, state):\n",
    "    N_qubits = len(reg.qubits)\n",
    "    N_side = int(np.sqrt(N_qubits))\n",
    "\n",
    "    st_fac = 0\n",
    "    for k in range(-N_side+1, N_side):\n",
    "        for l in range(-N_side+1, N_side):\n",
    "            kk = np.abs(k)\n",
    "            ll = np.abs(l)\n",
    "            if not (k == 0 and l == 0):\n",
    "                st_fac += 4 * (-1)**(kk + ll) * get_corr_function(k, l, reg, R_interatomic, state)\n",
    "    return st_fac"
   ]
  },
  {
   "cell_type": "markdown",
   "metadata": {},
   "source": [
    "We will use the following function to probe unrealistically a state."
   ]
  },
  {
   "cell_type": "code",
   "execution_count": null,
   "metadata": {},
   "outputs": [],
   "source": [
    "def proba_from_state(state, p=0.1,):\n",
    "    N = int(np.log2(state.shape[0]))\n",
    "    proba = abs(np.array(state))**2\n",
    "    indic = np.where(proba>=p)[0]\n",
    "    S = {}\n",
    "    for indi in indic:\n",
    "        s = format(indi,'0{}b'.format(N))\n",
    "        s = '.'.join(s[i:i+3] for i in range(0, N, 3))\n",
    "        S[s] = proba[indi][0]*100\n",
    "    return {k: '{:.2f}%'.format(v) for k, v in sorted(S.items(), key=lambda item: item[1],reverse=True)}"
   ]
  },
  {
   "cell_type": "markdown",
   "metadata": {},
   "source": [
    "$S_{Néel}$ should reach its maximum for the previously defined AF state. The obtained value will allow to normalise the score. "
   ]
  },
  {
   "cell_type": "code",
   "execution_count": null,
   "metadata": {},
   "outputs": [],
   "source": [
    "# Create antiferromagnetic state as the superposition of the two checkerboard patterns:\n",
    "AF1 = qutip.tensor([qutip.basis(2,k%2) for k in range(N)])\n",
    "AF2 = qutip.tensor([qutip.basis(2,(k+1)%2) for k in range(N)])\n",
    "AF_state = (AF1 + AF2).unit()"
   ]
  },
  {
   "cell_type": "code",
   "execution_count": null,
   "metadata": {},
   "outputs": [],
   "source": [
    "print('AF state =', proba_from_state(AF_state))\n",
    "\n",
    "t1=time.process_time()\n",
    "print('S_Neel(AF state) =', get_neel_structure_factor(reg, R_interatomic, AF_state))\n",
    "t2=time.process_time()\n",
    "print('computed in', (t2-t1),'sec')"
   ]
  },
  {
   "cell_type": "markdown",
   "metadata": {},
   "source": [
    "## Score function"
   ]
  },
  {
   "cell_type": "markdown",
   "metadata": {},
   "source": [
    "The score function thus wraps the previous functions and assign a positive score to each instance of parameters. "
   ]
  },
  {
   "cell_type": "code",
   "execution_count": null,
   "metadata": {},
   "outputs": [],
   "source": [
    "def score(para):\n",
    "    seq = Sequence(reg, Chadoq2)\n",
    "    seq.declare_channel('ising', 'rydberg_global')\n",
    "    seq.add(create_interp_pulse(para),'ising')\n",
    "    \n",
    "    simul = Simulation(seq)\n",
    "    results = simul.run()\n",
    "    \n",
    "    F = get_neel_structure_factor(reg, R_interatomic, results.states[-1])/((2*N_side-1)**2-1)\n",
    "    return 1 - F"
   ]
  },
  {
   "cell_type": "code",
   "execution_count": null,
   "metadata": {},
   "outputs": [],
   "source": [
    "score(para)"
   ]
  },
  {
   "cell_type": "markdown",
   "metadata": {},
   "source": [
    "# Optimisation\n",
    "## Bayesian search \n",
    "Bayesian optimisation method has two keywords: model and decide. \n",
    "\n",
    "It consists of both a statistical model that simulates the unknown landscape function $F$ and a decision maker, the acquisition function $a$, which indicates where the next evaluation will be most likely to enhance optimization. Two distinct stages are carried out. In the supervised training, $F$ is surveyed according to an initial space-filling pattern. For small-sized spaces, the probing points $\\{x_i\\}$ can be formed into a discrete grid efficiently covering the entire search space. However, as the number of dimensions grows, it becomes less resource-consuming to conduct a uniformly random sample of $n$ points. \n",
    "\n",
    "A prior surrogate model of $F$ is established knowing only its values $\\{F(x_i)\\}_{1:n}$ at those $n$ points. Then, in the research part, each new point of a remaining budget $M-n$ is iteratively selected and used to update the model. That model provides a posterior probability distribution $f$, which approximates $F$ at every $x$. Using Gaussian processes for the modelling enables to get normally distributed $f(x)$, fully described by only two parameters: a mean and a variance.\n",
    "\n",
    "At each step of the algorithm, once the landscape  has been approximated over the search space, the acquisition function $a(x)$ can be updated, being completely determined by the  current distribution $f(x)$. $a$ relates to how desirable evaluating $F$ at $x$ is expected to be and its straightforward construction makes it a relatively inexpensive function to evaluate and thus to optimise. By focusing alternatively on exploration and exploitation, $a$ helps to locate the next optimal point to query, $x^{*}$. It might seem that we just traded one optimization problem for another, but the call cost of $a$ is usually derisory compared to the black box one. $F(x^{*})$ is then added to the known values of $F$ in order to refine the next model. \n",
    "\n",
    "After $M$ calls to $F$, the Bayesian algorithm outputs $x_{opt}$, the most \"useful\" point for the experiment, i.e. the supposed global minimum of $F$ or the point with the smallest mean in case of strong noise for instance. \n",
    "\n",
    "<img src=\"files/diagram_baye_opt.png\" alt=\"baye_opt\" style=\"width: 700px;\"/>"
   ]
  },
  {
   "cell_type": "markdown",
   "metadata": {},
   "source": [
    "## Optimisation parameters\n",
    "We are probing the parameter space constituted of a $2m$-dimensional hyper-rectangle $[0,\\Omega_{max}]^m\\times[\\delta_0,\\delta_f]^m$ with $n_r$ training points and a total of $n_c$ probing points. Using callback methods, we keep track of the duration of each step, increasing as the model is approaching the landscape function. The optimisation is achieved using `gp_minimize` from the module `scikit-optimize`."
   ]
  },
  {
   "cell_type": "code",
   "execution_count": null,
   "metadata": {
    "jupyter": {
     "outputs_hidden": true
    }
   },
   "outputs": [],
   "source": [
    "bounds = [(0.0, seq.declared_channels['ising'].max_amp)] * m + [(delta_0, delta_f)] * m\n",
    "n_r = 30\n",
    "n_c = 100\n",
    "\n",
    "callback = callbacks.TimerCallback()\n",
    "RESULT = gp_minimize(score, bounds, n_random_starts=n_r, n_calls=n_c, verbose=True, callback=callback)\n",
    "iter_time = callback.iter_time"
   ]
  },
  {
   "cell_type": "markdown",
   "metadata": {},
   "source": [
    "## Optimisation performance"
   ]
  },
  {
   "cell_type": "markdown",
   "metadata": {},
   "source": [
    "To ensure that the optimisation is well-designed, i.e. enough but not too many steps, we plot both its performance in terms of score minimum found at step $n$ and also the evolution of the duration of each step. "
   ]
  },
  {
   "cell_type": "code",
   "execution_count": null,
   "metadata": {},
   "outputs": [],
   "source": [
    "def sort_improv(RESULT):\n",
    "    score_vals=RESULT.func_vals\n",
    "    min=score_vals[0]\n",
    "    score_list=[]\n",
    "    for s in score_vals:\n",
    "        if s<min:\n",
    "            min=s\n",
    "            score_list.append(min)\n",
    "        else:\n",
    "            score_list.append(min)\n",
    "    return score_list"
   ]
  },
  {
   "cell_type": "code",
   "execution_count": null,
   "metadata": {},
   "outputs": [],
   "source": [
    "fig = plt.figure()\n",
    "ax = fig.add_subplot(111)\n",
    "ax.plot(range(n_c), sort_improv(RESULT), 'r-')\n",
    "ax2=ax.twinx()\n",
    "ax2.plot(range(n_c), iter_time, 'k+')\n",
    "ax.set_xlabel(r'$n_{steps}$', fontsize=14)\n",
    "ax.set_ylabel('Min score reached (red)', fontsize=14)\n",
    "ax2.set_ylabel(r'$\\tau_{step}$ [sec] (crosses)', fontsize=14)\n",
    "plt.show()"
   ]
  },
  {
   "cell_type": "markdown",
   "metadata": {},
   "source": [
    "## Optimised pulse\n",
    "An interpolated pulse is produced based on the optimised parameters RESULT.x and then added to a new sequence."
   ]
  },
  {
   "cell_type": "code",
   "execution_count": null,
   "metadata": {},
   "outputs": [],
   "source": [
    "seq = Sequence(reg, Chadoq2)\n",
    "seq.declare_channel('ising', 'rydberg_global')\n",
    "P = create_interp_pulse(RESULT.x)\n",
    "seq.add(P,'ising')\n",
    "seq.draw()"
   ]
  },
  {
   "cell_type": "markdown",
   "metadata": {},
   "source": [
    "The pulse sequence travels though the following path in the phase diagram of the system (the shaded area represents the antiferromagnetic phase for 2D config.)."
   ]
  },
  {
   "cell_type": "code",
   "execution_count": null,
   "metadata": {},
   "outputs": [],
   "source": [
    "fig, ax = plt.subplots()\n",
    "ax.grid(True, which='both', linestyle='--', color='grey')\n",
    "\n",
    "ax.set_ylabel(r\"$\\frac{\\delta(t)}{\\hbar\\,U}$\", fontsize=15)\n",
    "ax.set_xlabel(r\"$\\frac{\\Omega(t)}{\\hbar\\,U}$\", fontsize=15)\n",
    "\n",
    "ax.axhline(y=0, color='k')\n",
    "ax.axvline(x=0, color='k')\n",
    "\n",
    "y = np.arange(0.0, 4, 0.01)\n",
    "x = 1.522*(1-0.25*(y-2)**2)\n",
    "ax.fill_between(x, y, alpha=0.4, label='AF Phase')\n",
    "ax.legend(loc=0)\n",
    "\n",
    "ax.plot(np.array(P.amplitude.samples)/U, np.array(P.detuning.samples)/U, 'red',lw=2)\n",
    "plt.show()"
   ]
  },
  {
   "cell_type": "code",
   "execution_count": null,
   "metadata": {},
   "outputs": [],
   "source": [
    "simul = Simulation(seq)\n",
    "results = simul.run()\n",
    "final=results.states[-1]\n",
    "print('final =', proba_from_state(final, p=0.05))\n",
    "\n",
    "s_neel = np.round(get_neel_structure_factor(reg, R_interatomic, final),3)\n",
    "print(r'$S_\\text{Neel}$'+f'(final) = {s_neel}')"
   ]
  },
  {
   "cell_type": "markdown",
   "metadata": {},
   "source": [
    "This value should be compared to its equivalent in the tutorial _Preparing an AF state in the Ising model_. For a ramp pulse with the same parameters, the structural factor is around $2.75$. "
   ]
  },
  {
   "cell_type": "markdown",
   "metadata": {},
   "source": [
    "## Correlation properties\n",
    "To identify any AF properties of the final state, it is also possible to examine its correlation function $g^{(2)}$. "
   ]
  },
  {
   "cell_type": "code",
   "execution_count": null,
   "metadata": {},
   "outputs": [],
   "source": [
    "correlation_function = get_full_corr_function(reg, final)\n",
    "\n",
    "A = np.reshape(list(correlation_function.values()), (2*N_side-1, 2*N_side-1))\n",
    "A = A / A[2,2]\n",
    "A[2,2]=0\n",
    "print(A)\n",
    "\n",
    "plt.figure()\n",
    "plt.imshow(A, cmap='coolwarm')\n",
    "plt.xlabel('k',fontsize=12)\n",
    "plt.ylabel('l',fontsize=12)\n",
    "plt.xticks(range(len(A)), ['{}'.format(i) for i in range(-N_side + 1, N_side)])\n",
    "plt.yticks(range(len(A)), ['{}'.format(-i) for i in range(-N_side + 1, N_side)])\n",
    "plt.title(r'$g^{(2)}(k,l)$ after simulation')\n",
    "plt.colorbar()\n",
    "plt.show()"
   ]
  },
  {
   "cell_type": "markdown",
   "metadata": {},
   "source": [
    "Note that the correlation function would follow an exponential decay (modulo finite-size effects), which is best observed at larger system sizes. We can retrieve its correlation length for the case 3x3 and plot  "
   ]
  },
  {
   "cell_type": "code",
   "execution_count": null,
   "metadata": {},
   "outputs": [],
   "source": [
    "correlation_function = get_full_corr_function(reg, final)\n",
    "x=np.arange(2*N_side-1)\n",
    "y=[(-1)**i*correlation_function[(0,i)] for i in range(N_side)]+[(-1)**(N_side-1+i)*correlation_function[(i,N_side-1)] for i in range(1,N_side)]\n",
    "xi=-1/np.polyfit(x, np.log(y), 1)[0]\n",
    "print('Correlation length = {:.1f} sites'.format(xi))"
   ]
  },
  {
   "cell_type": "code",
   "execution_count": null,
   "metadata": {},
   "outputs": [],
   "source": [
    "expected_corr_function = {}\n",
    "for k in range(-N_side+1,N_side):\n",
    "    for l in range(-N_side+1,N_side):\n",
    "        kk = np.abs(k)\n",
    "        ll = np.abs(l)\n",
    "        expected_corr_function[(k, l)] = (-1)**(kk + ll) * np.exp(-(kk + ll)/xi)\n",
    "B = np.reshape(list(expected_corr_function.values()), (2*N_side-1, 2*N_side-1))\n",
    "B[2,2]=0"
   ]
  },
  {
   "cell_type": "code",
   "execution_count": null,
   "metadata": {},
   "outputs": [],
   "source": [
    "plt.show()\n",
    "plt.figure()\n",
    "plt.imshow(B, cmap='coolwarm',vmin=A.min(),vmax=A.max())\n",
    "plt.title('Exponential decay')\n",
    "plt.xlabel('k',fontsize=12)\n",
    "plt.ylabel('l',fontsize=12)\n",
    "plt.xticks(range(len(A)), ['{}'.format(i) for i in range(-N_side + 1, N_side)])\n",
    "plt.yticks(range(len(A)), ['{}'.format(-i) for i in range(-N_side + 1, N_side)])\n",
    "plt.colorbar()\n",
    "plt.show()"
   ]
  },
  {
   "cell_type": "markdown",
   "metadata": {},
   "source": [
    "A perfect AF state should be as decorrelated as possible, i.e. with a correlation length as great as possible. "
   ]
  }
 ],
 "metadata": {
  "kernelspec": {
   "display_name": "env_pulser",
   "language": "python",
   "name": "env_pulser"
  },
  "language_info": {
   "codemirror_mode": {
    "name": "ipython",
    "version": 3
   },
   "file_extension": ".py",
   "mimetype": "text/x-python",
   "name": "python",
   "nbconvert_exporter": "python",
   "pygments_lexer": "ipython3",
   "version": "3.8.5"
  }
 },
 "nbformat": 4,
 "nbformat_minor": 4
}
