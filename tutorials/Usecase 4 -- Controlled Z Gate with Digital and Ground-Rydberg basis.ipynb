{
 "cells": [
  {
   "cell_type": "code",
   "execution_count": 35,
   "metadata": {},
   "outputs": [],
   "source": [
    "import qutip\n",
    "import numpy as np\n",
    "import matplotlib.pyplot as plt"
   ]
  },
  {
   "cell_type": "markdown",
   "metadata": {},
   "source": [
    "# Introduction\n",
    "We shall be using qutrits to describe the three states involved in the controlled-z gates using a rydberg excited state $|r\\rangle$ in addition to the hyperfine ground $|g\\rangle$ and excited states $|e\\rangle$ used for the digital basis. This corresponds to a \"Vee\" configuration for three-level systems:\n",
    "<img src=\"files/three_states.png\" alt=\"Three-state Configuration\" style=\"width: 300px;\"/>\n"
   ]
  },
  {
   "cell_type": "markdown",
   "metadata": {},
   "source": [
    "# Basic Definitions"
   ]
  },
  {
   "cell_type": "markdown",
   "metadata": {},
   "source": [
    "First we construct the basic states and operators:"
   ]
  },
  {
   "cell_type": "code",
   "execution_count": 188,
   "metadata": {},
   "outputs": [],
   "source": [
    "# Three-state basis:\n",
    "r = qutip.Qobj([[1],[0],[0]])\n",
    "e = qutip.Qobj([[0],[1],[0]])\n",
    "g = qutip.Qobj([[0],[0],[1]])"
   ]
  },
  {
   "cell_type": "code",
   "execution_count": 189,
   "metadata": {},
   "outputs": [],
   "source": [
    "# Basic transition operators:\n",
    "I = qutip.qeye(3)\n",
    "\n",
    "rydX = qutip.Qobj([[0,0,1],[0,1,0],[1,0,0]])\n",
    "rydY = qutip.Qobj([[0,0,-1j],[0,1,0],[1j,0,0]])\n",
    "rydZ = qutip.Qobj([[1,0,0],[0,0,0],[0,0,-1]])\n",
    "\n",
    "excX = qutip.Qobj([[1,0,0],[0,0,1],[0,1,0]])\n",
    "excY = qutip.Qobj([[1,0,0],[0,0,-1j],[0,1j,0]])\n",
    "excZ = qutip.Qobj([[0,0,0],[0,1,0],[0,0,-1]])"
   ]
  },
  {
   "cell_type": "code",
   "execution_count": 190,
   "metadata": {},
   "outputs": [
    {
     "data": {
      "text/latex": [
       "Quantum object: dims = [[3], [3]], shape = (3, 3), type = oper, isherm = True\\begin{equation*}\\left(\\begin{array}{*{11}c}0.0 & 0.0 & 1.0\\\\0.0 & 1.0 & 0.0\\\\1.0 & 0.0 & 0.0\\\\\\end{array}\\right)\\end{equation*}"
      ],
      "text/plain": [
       "Quantum object: dims = [[3], [3]], shape = (3, 3), type = oper, isherm = True\n",
       "Qobj data =\n",
       "[[0. 0. 1.]\n",
       " [0. 1. 0.]\n",
       " [1. 0. 0.]]"
      ]
     },
     "execution_count": 190,
     "metadata": {},
     "output_type": "execute_result"
    }
   ],
   "source": [
    "rydX"
   ]
  },
  {
   "cell_type": "markdown",
   "metadata": {},
   "source": [
    "Check these definitions work well"
   ]
  },
  {
   "cell_type": "code",
   "execution_count": 191,
   "metadata": {},
   "outputs": [
    {
     "name": "stdout",
     "output_type": "stream",
     "text": [
      "Quantum object: dims = [[3], [1]], shape = (3, 1), type = ket\n",
      "Qobj data =\n",
      "[[1.]\n",
      " [0.]\n",
      " [0.]]\n",
      "Quantum object: dims = [[3], [1]], shape = (3, 1), type = ket\n",
      "Qobj data =\n",
      "[[0.]\n",
      " [1.]\n",
      " [0.]]\n",
      "Quantum object: dims = [[3], [1]], shape = (3, 1), type = ket\n",
      "Qobj data =\n",
      "[[0.]\n",
      " [0.]\n",
      " [1.]]\n",
      "Quantum object: dims = [[3], [1]], shape = (3, 1), type = ket\n",
      "Qobj data =\n",
      "[[0.]\n",
      " [1.]\n",
      " [0.]]\n",
      "Quantum object: dims = [[3], [1]], shape = (3, 1), type = ket\n",
      "Qobj data =\n",
      "[[1.]\n",
      " [0.]\n",
      " [0.]]\n"
     ]
    }
   ],
   "source": [
    "print(rydX * g) # Gives rydberg\n",
    "print(excX * g) # Gives excited\n",
    "print(rydX * r) # Gives ground\n",
    "print(rydX * e) # Acts as identity (transition does not take place)\n",
    "print(excX * r) # Acts as identity (transition does not take place)"
   ]
  },
  {
   "cell_type": "markdown",
   "metadata": {},
   "source": [
    "# General Rotation\n",
    "Let's construct a rotation operator on the qutrit, which represents the pulses acting in our three-level system. Each pulse is characterized by an amplitude $\\Omega$ and frequency $\\delta$ "
   ]
  },
  {
   "cell_type": "code",
   "execution_count": 192,
   "metadata": {},
   "outputs": [],
   "source": [
    "# Using Rotating Wave Approximation:\n",
    "def ryd_rotate(omega_X, omega_Y,  delta):\n",
    "    return 0.5*(omega_X*rydX + omega_Y*rydY + delta*rydZ)\n",
    "\n",
    "def exc_rotate(omega_X, omega_Y, delta):\n",
    "    return 0.5*(omega_X*excX + omega_Y*excY + delta*excZ)"
   ]
  },
  {
   "cell_type": "markdown",
   "metadata": {},
   "source": [
    "# Rabi Oscillations\n",
    "Let's first verify that the Rabi oscillation between both types of excited levels and the ground state work:"
   ]
  },
  {
   "cell_type": "code",
   "execution_count": 193,
   "metadata": {},
   "outputs": [],
   "source": [
    "times = np.linspace(0,np.pi,60)"
   ]
  },
  {
   "cell_type": "code",
   "execution_count": 194,
   "metadata": {},
   "outputs": [],
   "source": [
    "H = ryd_rotate(1,0,0) # Rotation along the X axis. Ground-Rydberg basis:\n",
    "observables = [rydZ,excZ]\n",
    "evolution = qutip.sesolve(H, g, times, observables)"
   ]
  },
  {
   "cell_type": "code",
   "execution_count": 195,
   "metadata": {
    "scrolled": true
   },
   "outputs": [
    {
     "data": {
      "text/plain": [
       "<matplotlib.legend.Legend at 0x7fd90cb253a0>"
      ]
     },
     "execution_count": 195,
     "metadata": {},
     "output_type": "execute_result"
    },
    {
     "data": {
      "image/png": "[encoded data removed]",
      "text/plain": [
       "<Figure size 432x288 with 1 Axes>"
      ]
     },
     "metadata": {
      "needs_background": "light"
     },
     "output_type": "display_data"
    }
   ],
   "source": [
    "names=['Rydberg Z','Excited Z']\n",
    "for i,results in enumerate(evolution.expect):\n",
    "    plt.plot(times,results,label=f\"{names[i]}\")\n",
    "    \n",
    "plt.legend()"
   ]
  },
  {
   "cell_type": "markdown",
   "metadata": {},
   "source": [
    "If we instead evolve with a digital-basis rotation:"
   ]
  },
  {
   "cell_type": "code",
   "execution_count": 196,
   "metadata": {},
   "outputs": [],
   "source": [
    "H = exc_rotate(1,0,0) #Digital basis\n",
    "evolution = qutip.sesolve(H, g, times, [rydZ,excZ])"
   ]
  },
  {
   "cell_type": "code",
   "execution_count": 197,
   "metadata": {},
   "outputs": [
    {
     "data": {
      "text/plain": [
       "<matplotlib.legend.Legend at 0x7fd90cb25e80>"
      ]
     },
     "execution_count": 197,
     "metadata": {},
     "output_type": "execute_result"
    },
    {
     "data": {
      "image/png": "[encoded data removed]",
      "text/plain": [
       "<Figure size 432x288 with 1 Axes>"
      ]
     },
     "metadata": {
      "needs_background": "light"
     },
     "output_type": "display_data"
    }
   ],
   "source": [
    "for i,results in enumerate(evolution.expect):\n",
    "    plt.plot(times,results,label=f\"{names[-i]}\")\n",
    "    \n",
    "plt.legend()"
   ]
  },
  {
   "cell_type": "markdown",
   "metadata": {},
   "source": [
    "# Two Atom System\n",
    "Now we consider two atoms: one for control and one for the target of a Control-Z gate. They will also interact via a Van der Waals coupling, which will depend on the physical distance between the two qutrits"
   ]
  },
  {
   "cell_type": "code",
   "execution_count": 224,
   "metadata": {},
   "outputs": [],
   "source": [
    "gg = qutip.tensor([g,g])\n",
    "\n",
    "ge = qutip.tensor([g,e])\n",
    "eg = qutip.tensor([e,g])\n",
    "ee = qutip.tensor([e,e])\n",
    "\n",
    "gr = qutip.tensor([g,r])\n",
    "rg = qutip.tensor([r,g])\n",
    "rr = qutip.tensor([r,r])\n",
    "\n",
    "er = qutip.tensor([e,r])\n",
    "re = qutip.tensor([r,e])"
   ]
  },
  {
   "cell_type": "code",
   "execution_count": 225,
   "metadata": {},
   "outputs": [],
   "source": [
    "#Define Operators\n",
    "rydN = qutip.Qobj([[1,0,0],[0,0,0],[0,0,0]])\n",
    "\n",
    "VdW = qutip.tensor([rydN,rydN])\n",
    "rotation = qutip.tensor([ryd_rotate(1,0,0),I]) #Rotation in the Ground-Rydberg basis\n",
    "bias =  qutip.tensor([I,rydN]) + qutip.tensor([rydN,I])       \n",
    "\n",
    "observables = [qutip.tensor([rydN,I]),qutip.tensor([I,rydN])]"
   ]
  },
  {
   "cell_type": "markdown",
   "metadata": {},
   "source": [
    "# Rydberg Blockade"
   ]
  },
  {
   "cell_type": "markdown",
   "metadata": {},
   "source": [
    "If one of the atoms is in the ground state while the other one is in the rydberg state, we observe a blockade effect"
   ]
  },
  {
   "cell_type": "code",
   "execution_count": 232,
   "metadata": {},
   "outputs": [
    {
     "name": "stdout",
     "output_type": "stream",
     "text": [
      "1371.7421124828536\n",
      "3.8146972656249987\n",
      "0.0877914951989026\n"
     ]
    },
    {
     "data": {
      "text/plain": [
       "<matplotlib.legend.Legend at 0x7fd90e590220>"
      ]
     },
     "execution_count": 232,
     "metadata": {},
     "output_type": "execute_result"
    },
    {
     "data": {
      "image/png": "[encoded data removed]",
      "text/plain": [
       "<Figure size 432x288 with 1 Axes>"
      ]
     },
     "metadata": {
      "needs_background": "light"
     },
     "output_type": "display_data"
    }
   ],
   "source": [
    "\n",
    "# Try different distances bewteen atoms:\n",
    "for R in [0.3, 0.8, 1.5]:\n",
    "    print(1/R**6)\n",
    "    \n",
    "    H = (1/R**6)*VdW + rotation - 0*bias\n",
    "    evolution = qutip.sesolve(H, gr, times, observables) # Rotates the first atom around the x axis\n",
    "\n",
    "    plt.plot(evolution.times, evolution.expect[0],label=f'R={R}')\n",
    "    \n",
    "plt.legend()"
   ]
  },
  {
   "cell_type": "markdown",
   "metadata": {},
   "source": [
    "Notice how the population transfer is hindered when R is below the rydberg blockade radius. In fact in that region, the populated state will be the \"bright\" state $(|rg\\rangle + |gr\\rangle)/\\sqrt{2}$. If we try the initial state $|gg\\rangle$ or $|ge\\rangle$, then the atoms succesfully populate the rydberg state."
   ]
  },
  {
   "cell_type": "code",
   "execution_count": 234,
   "metadata": {},
   "outputs": [
    {
     "name": "stdout",
     "output_type": "stream",
     "text": [
      "1371.7421124828536\n",
      "3.8146972656249987\n",
      "0.0877914951989026\n"
     ]
    },
    {
     "data": {
      "text/plain": [
       "<matplotlib.legend.Legend at 0x7fd90e7d4370>"
      ]
     },
     "execution_count": 234,
     "metadata": {},
     "output_type": "execute_result"
    },
    {
     "data": {
      "image/png": "[encoded data removed]",
      "text/plain": [
       "<Figure size 432x288 with 1 Axes>"
      ]
     },
     "metadata": {
      "needs_background": "light"
     },
     "output_type": "display_data"
    }
   ],
   "source": [
    "# Try different distances bewteen atoms:\n",
    "for R in [0.3, 0.8, 1.5]:\n",
    "    print(1/R**6)\n",
    "    \n",
    "    H = (1/R**6)*VdW + rotation - 0*bias\n",
    "    evolution = qutip.sesolve(H, ge, times, observables) # Rotates the first atom around the x axis\n",
    "\n",
    "    plt.plot(evolution.times, evolution.expect[0],label=f'R={R}')\n",
    "    \n",
    "plt.legend()"
   ]
  },
  {
   "cell_type": "markdown",
   "metadata": {},
   "source": [
    "# Controlled-Z gate\n",
    "Now we construct the series of pulses that implement the CZ gate as a sequence. We store the intermediate state after each step"
   ]
  },
  {
   "cell_type": "code",
   "execution_count": 235,
   "metadata": {},
   "outputs": [],
   "source": [
    "def CZ(initial,distances=np.linspace(0.26,1.7,100),plots=False):\n",
    "    \"\"\"\n",
    "    Implements the CZ gate pulse sequence. A range of distances between the atoms\n",
    "    is automatically given but one can give specific values as parameters.\n",
    "    Notice that the time steps are defined automatically\n",
    "    \"\"\"\n",
    "    times = np.linspace(0,np.pi,40)\n",
    "    \n",
    "    control_rotation = qutip.tensor([ryd_rotate(1,0,0),I]) #Rotation in the Ground-Rydberg basis\n",
    "    target_rotation = qutip.tensor([I,ryd_rotate(2,0,0)]) #Rotation in the Ground-Rydberg basis\n",
    "\n",
    "    sequence = {\n",
    "        \"pi pulse control\": control_rotation,\n",
    "        \"2pi pulse target\": target_rotation, \n",
    "        \"pi pulse control(again)\": control_rotation\n",
    "        }\n",
    "    \n",
    "    evolution_r =[]\n",
    "    evolution_i =[]\n",
    "    \n",
    "    for R in distances:\n",
    "\n",
    "        state = initial # set initial state\n",
    "        for x in sequence:\n",
    "\n",
    "            H = (1/R**6)*VdW + sequence[x] - 0*bias\n",
    "            result = qutip.sesolve(H, state, times) # Without observables, we get the output state\n",
    "            state = result.states[-1]\n",
    "\n",
    "        scalar_prod = np.vdot(initial.data.toarray(),state.data.toarray())\n",
    "        evolution_r.append(np.real(scalar_prod))\n",
    "        #evolution_i.append(np.imag(scalar_prod))\n",
    "\n",
    "    if plots:\n",
    "        plt.plot(distances,evolution_r,label=f\"Re <initial|psi_out>\")\n",
    "        #plt.plot(distances,evolution_i,label=f\"Im <initial|psi_out>\")\n",
    "        plt.legend()\n",
    "    \n",
    "    return scalar_prod"
   ]
  },
  {
   "cell_type": "code",
   "execution_count": 237,
   "metadata": {},
   "outputs": [
    {
     "data": {
      "image/png": "[encoded data removed]",
      "text/plain": [
       "<Figure size 432x288 with 1 Axes>"
      ]
     },
     "metadata": {
      "needs_background": "light"
     },
     "output_type": "display_data"
    }
   ],
   "source": [
    "for initial in [gg,ge,eg,ee]:\n",
    "    CZ(initial,plots=True)"
   ]
  },
  {
   "cell_type": "markdown",
   "metadata": {},
   "source": [
    "Notice that the rydberg blockade acts only on the $|gg\\rangle$ case, which corresponds to a \"$|11\\rangle$\" state. If we place the atoms at $r<0.6$ we then get the following effective $CZ$ gate: "
   ]
  },
  {
   "cell_type": "code",
   "execution_count": 244,
   "metadata": {},
   "outputs": [
    {
     "name": "stdout",
     "output_type": "stream",
     "text": [
      "(-0.999997333027251-0.0022904781986179544j)\n",
      "(0.9999999996632042+2.0243098355537435e-05j)\n",
      "(0.9999999991628149+4.006099706850324e-05j)\n",
      "(0.9999999981817073+6.030410934115191e-05j)\n"
     ]
    }
   ],
   "source": [
    "for initial in [gg,ge,eg,ee]:\n",
    "    print(CZ(initial,distances=[0.3]))"
   ]
  },
  {
   "cell_type": "code",
   "execution_count": null,
   "metadata": {},
   "outputs": [],
   "source": []
  }
 ],
 "metadata": {
  "kernelspec": {
   "display_name": "Python 3",
   "language": "python",
   "name": "python3"
  },
  "language_info": {
   "codemirror_mode": {
    "name": "ipython",
    "version": 3
   },
   "file_extension": ".py",
   "mimetype": "text/x-python",
   "name": "python",
   "nbconvert_exporter": "python",
   "pygments_lexer": "ipython3",
   "version": "3.8.5"
  }
 },
 "nbformat": 4,
 "nbformat_minor": 4
}
