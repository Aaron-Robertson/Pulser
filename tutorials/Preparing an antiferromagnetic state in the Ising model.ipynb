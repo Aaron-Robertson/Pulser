{
 "cells": [
  {
   "cell_type": "markdown",
   "metadata": {},
   "source": [
    "# Preparing an AF state in the Ising model\n",
    "\n",
    "This notebook illustrates how to use Pulser to build a sequence for preparing an AF state in the Ising model. It is based on [10.1103/PhysRevX.8.021070](10.1103/PhysRevX.8.021070).\n",
    "\n",
    "We begin by importing some basic modules:"
   ]
  },
  {
   "cell_type": "code",
   "execution_count": null,
   "metadata": {},
   "outputs": [],
   "source": [
    "import numpy as np\n",
    "import itertools\n",
    "import matplotlib.pyplot as plt\n",
    "import qutip\n",
    "\n",
    "from pulser import Pulse, Sequence, Register\n",
    "from pulser.waveforms import ConstantWaveform, RampWaveform\n",
    "from pulser.devices import Chadoq2, MockDevice\n",
    "from pulser.simulation import Simulation"
   ]
  },
  {
   "cell_type": "markdown",
   "metadata": {},
   "source": [
    "# 1. 2D Square Array"
   ]
  },
  {
   "cell_type": "markdown",
   "metadata": {},
   "source": [
    "## Waveforms \n",
    "\n",
    "We are realizing the following program\n",
    "\n",
    "<img src=\"files/AF_Ising_program.png\" alt=\"AF Pulse Sequence\" style=\"width: 320px;\"/>"
   ]
  },
  {
   "cell_type": "markdown",
   "metadata": {},
   "source": [
    "This pulse is defined by the following parameters:"
   ]
  },
  {
   "cell_type": "code",
   "execution_count": null,
   "metadata": {},
   "outputs": [],
   "source": [
    "# Parameters in MHz and ns\n",
    "U = 1.5 * 2*np.pi \n",
    "\n",
    "delta_0 = -20 * U\n",
    "delta_f = 14 * U\n",
    "Omega_max = 12 * U \n",
    "\n",
    "t_rise = 300\n",
    "t_fall = 400\n",
    "t_sweep = 1000 - (t_rise + t_fall)"
   ]
  },
  {
   "cell_type": "markdown",
   "metadata": {},
   "source": [
    "We define our register with an interatomic distance equal to the Rydberg radius. This in turn depends on the maximum Rabi frequency in our pulse sequence."
   ]
  },
  {
   "cell_type": "code",
   "execution_count": null,
   "metadata": {
    "scrolled": true
   },
   "outputs": [],
   "source": [
    "R_blockade = (5.008e6/Omega_max)**(1/6)\n",
    "\n",
    "N = 3\n",
    "reg = Register.rectangle(N, N, R_blockade, prefix='q')\n",
    "print(f'Blockade Radius is: {R_blockade}µm.')\n",
    "reg.draw()"
   ]
  },
  {
   "cell_type": "markdown",
   "metadata": {},
   "source": [
    "## Creating my sequence"
   ]
  },
  {
   "cell_type": "markdown",
   "metadata": {},
   "source": [
    "We compose our pulse with the following objects from Pulser:"
   ]
  },
  {
   "cell_type": "code",
   "execution_count": null,
   "metadata": {},
   "outputs": [],
   "source": [
    "rise = Pulse.ConstantDetuning(RampWaveform(t_rise, 0., Omega_max), delta_0, 0.)\n",
    "sweep = Pulse.ConstantAmplitude(Omega_max, RampWaveform(t_sweep, delta_0, delta_f), 0.)\n",
    "fall = Pulse.ConstantDetuning(RampWaveform(t_fall, Omega_max, 0.), delta_f, 0.)"
   ]
  },
  {
   "cell_type": "code",
   "execution_count": null,
   "metadata": {},
   "outputs": [],
   "source": [
    "seq = Sequence(reg, MockDevice)\n",
    "seq.declare_channel('ising', 'rydberg_global')\n",
    "\n",
    "seq.add(rise, 'ising')\n",
    "seq.add(sweep, 'ising')\n",
    "seq.add(fall, 'ising')\n",
    "\n",
    "#print(seq)\n",
    "seq.draw()"
   ]
  },
  {
   "cell_type": "markdown",
   "metadata": {},
   "source": [
    "## Phase Diagram"
   ]
  },
  {
   "cell_type": "markdown",
   "metadata": {},
   "source": [
    "The pulse sequence travels though the following path in the phase diagram of the system (the shaded area represents the antiferromagnetic phase):"
   ]
  },
  {
   "cell_type": "code",
   "execution_count": null,
   "metadata": {},
   "outputs": [],
   "source": [
    "#phase = {'omega':[], 'delta':[], 'time': range(max(seq._last(ch).tf for ch in seq.declared_channels))}\n",
    "delta = []\n",
    "omega = []\n",
    "for x in seq._schedule['ising']:\n",
    "    if isinstance(x.type,Pulse):\n",
    "        omega += list(x.type.amplitude.samples/U)\n",
    "        delta += list(x.type.detuning.samples/U)\n",
    "        \n",
    "fig, ax = plt.subplots()\n",
    "ax.grid(True, which='both')\n",
    "\n",
    "ax.set_ylabel(r\"$\\frac{\\delta(t)}{\\hbar\\,U}$\", fontsize=12)\n",
    "ax.set_xlabel(r\"$\\frac{\\Omega(t)}{\\hbar\\,U}$\", fontsize=12)\n",
    "ax.set_xlim(0,3)\n",
    "#ax.set_ylim(-300,300)\n",
    "ax.axhline(y=0, color='k')\n",
    "ax.axvline(x=0, color='k')\n",
    "\n",
    "y = np.arange(0.0, 6, 0.01)\n",
    "x = 1.522*(1-0.25*(y-2)**2)\n",
    "ax.fill_between(x, y, alpha=0.4)\n",
    "\n",
    "ax.plot(np.array(omega)/(2*np.pi),np.array(delta)/(2*np.pi),'red',lw=2)\n",
    "plt.show()\n"
   ]
  },
  {
   "cell_type": "markdown",
   "metadata": {},
   "source": [
    "# Simulation"
   ]
  },
  {
   "cell_type": "markdown",
   "metadata": {},
   "source": [
    "We now run a simulation of the sequence:"
   ]
  },
  {
   "cell_type": "code",
   "execution_count": null,
   "metadata": {},
   "outputs": [],
   "source": [
    "simul = Simulation(seq)"
   ]
  },
  {
   "cell_type": "markdown",
   "metadata": {},
   "source": [
    "The observables to measure will be the occupation operator $|r\\rangle \\langle r|_i$ on each site $i$ of the register, where the Rydberg state $|r\\rangle$ represents the excited state."
   ]
  },
  {
   "cell_type": "code",
   "execution_count": null,
   "metadata": {},
   "outputs": [],
   "source": [
    "simul._size"
   ]
  },
  {
   "cell_type": "code",
   "execution_count": null,
   "metadata": {},
   "outputs": [],
   "source": [
    "up = qutip.basis(2,0)\n",
    "def occupation(N,j):\n",
    "    prod = [qutip.qeye(2) for _ in range(N*N)]\n",
    "    prod[j] = up*up.dag()\n",
    "    return qutip.tensor(prod)"
   ]
  },
  {
   "cell_type": "code",
   "execution_count": null,
   "metadata": {},
   "outputs": [],
   "source": [
    "occup_list = [occupation(N,j) for j in range(N*N)]"
   ]
  },
  {
   "cell_type": "markdown",
   "metadata": {},
   "source": [
    "We now run the simulation and plot the evolution of the expectation values, as well as a representation of the final values after the pulse is applied:"
   ]
  },
  {
   "cell_type": "code",
   "execution_count": null,
   "metadata": {
    "scrolled": true
   },
   "outputs": [],
   "source": [
    "simul.run(obs_list=occup_list, progress_bar=True)\n",
    "\n",
    "for expv in simul.output.expect:\n",
    "    plt.plot(expv)\n",
    "    \n",
    "res=np.zeros((N,N))\n",
    "for i,ev in enumerate(simul.output.expect):\n",
    "    res[i//N,i%N] = ev[-1]\n",
    "plt.matshow(res, cmap='hot')\n",
    "print(res)"
   ]
  },
  {
   "cell_type": "markdown",
   "metadata": {},
   "source": [
    "## Spin-Spin Correlation Function"
   ]
  },
  {
   "cell_type": "code",
   "execution_count": null,
   "metadata": {},
   "outputs": [],
   "source": [
    "simul.run(progress_bar=True)"
   ]
  },
  {
   "cell_type": "code",
   "execution_count": null,
   "metadata": {},
   "outputs": [],
   "source": [
    "def get_corr_pairs(k, l, reg,R_blockade):\n",
    "    corr_pairs = []\n",
    "    for i, qi in enumerate(reg.qubits):\n",
    "        for j, qj in enumerate(reg.qubits):\n",
    "            if all((reg.qubits[qi]-reg.qubits[qj])/R_blockade == [k,l]):\n",
    "                corr_pairs.append([i,j])\n",
    "    return corr_pairs"
   ]
  },
  {
   "cell_type": "code",
   "execution_count": null,
   "metadata": {},
   "outputs": [],
   "source": [
    "def get_corr_function(N,k,l,reg,R_blockade, state):\n",
    "    covariance = 0\n",
    "    corr_pairs = get_corr_pairs(k,l, reg,R_blockade)\n",
    "    occup_list = [occupation(N,j) for j in range(N*N)]\n",
    "    for qi, qj in corr_pairs:\n",
    "        covariance += qutip.expect(occup_list[qi]*occup_list[qj], state)\n",
    "        covariance -= qutip.expect(occup_list[qi], state)*qutip.expect(occup_list[qj], state)\n",
    "    return covariance/len(corr_pairs)\n",
    "        \n",
    "def get_full_corr_function(N,reg,state):\n",
    "    correlation_function = {}\n",
    "    for k,l in itertools.product(range(-N+1,N), repeat=2):\n",
    "        correlation_function[(k,l)] = get_corr_function(N, k, l, reg,R_blockade,state)\n",
    "    return correlation_function"
   ]
  },
  {
   "cell_type": "code",
   "execution_count": null,
   "metadata": {},
   "outputs": [],
   "source": [
    "final = simul.output.states[-1]\n",
    "correlation_function = get_full_corr_function(N, reg, final)"
   ]
  },
  {
   "cell_type": "code",
   "execution_count": null,
   "metadata": {},
   "outputs": [],
   "source": [
    "expected_corr_function = {}\n",
    "xi = 1.5\n",
    "for k, l in itertools.product(range(-N+1,N), repeat=2):\n",
    "    kk = np.abs(k)\n",
    "    ll = np.abs(l)\n",
    "    expected_corr_function[(k,l)] = (-1)**(kk + ll) * np.exp(-(kk + ll)/xi)"
   ]
  },
  {
   "cell_type": "code",
   "execution_count": null,
   "metadata": {},
   "outputs": [],
   "source": [
    "A = 4*np.reshape(list(correlation_function.values()), (2*N-1,2*N-1))\n",
    "B = 0.06*np.reshape(list(expected_corr_function.values()), (2*N-1,2*N-1))\n",
    "\n",
    "fig, axes = plt.subplots(nrows=2, ncols=1)\n",
    "im_A = axes[0].imshow(A, vmin=-0.25, vmax=0.25, cmap='coolwarm')\n",
    "axes[0].set_title(r'$g^{(2)}(k,l)$ after simulation')\n",
    "\n",
    "im_B = axes[1].imshow(B, vmin=-0.25, vmax=0.25, cmap='coolwarm')\n",
    "#axes[1].set_title(r'Exponential $g^{(2)}(k,l)$ expected')\n",
    "\n",
    "fig.colorbar(im_A, ax=axes.ravel().tolist())\n",
    "plt.show()\n"
   ]
  },
  {
   "cell_type": "markdown",
   "metadata": {},
   "source": [
    "## Néel Structure Factor"
   ]
  },
  {
   "cell_type": "code",
   "execution_count": null,
   "metadata": {},
   "outputs": [],
   "source": [
    "def get_neel_structure_factor(N,reg,R_blockade,state):\n",
    "    st_fac = 0\n",
    "    for k,l in itertools.product(range(-N+1,N), repeat=2):\n",
    "        kk = np.abs(k)\n",
    "        ll = np.abs(l)\n",
    "        if not (k == 0 and l == 0):\n",
    "            st_fac += 4 * (-1)**(kk + ll) * get_corr_function(N,k,l,reg,R_blockade,state)\n",
    "    return st_fac "
   ]
  },
  {
   "cell_type": "code",
   "execution_count": null,
   "metadata": {},
   "outputs": [],
   "source": [
    "def calculate_neel(det, omax=None):\n",
    "    # Parameters in MHz and ns \n",
    "    U = 1.5 * 2*np.pi\n",
    "    if omax:\n",
    "        Omega_max=omax*U\n",
    "    else:\n",
    "        Omega_max = 9*U\n",
    "    delta_0 = -10 * U\n",
    "    delta_f = det * U\n",
    "\n",
    "    R_blockade = (5.008e6/Omega_max)**(1/6)\n",
    "\n",
    "    N = 3\n",
    "    reg = Register.rectangle(N, N, R_blockade, prefix='q')\n",
    "    #print(f'Blockade Radius is: {R_blockade}µm.')\n",
    "    #reg.draw()\n",
    "\n",
    "\n",
    "    t_rise = 300\n",
    "    t_fall = 400\n",
    "    t_sweep = 1000 - (t_rise + t_fall)\n",
    "\n",
    "\n",
    "    rise = Pulse.ConstantDetuning(RampWaveform(t_rise, 0., Omega_max), delta_0, 0.)\n",
    "    sweep = Pulse.ConstantAmplitude(Omega_max, RampWaveform(t_sweep, delta_0, delta_f), 0.)\n",
    "    fall = Pulse.ConstantDetuning(RampWaveform(t_fall, Omega_max, 0.), delta_f, 0.)\n",
    "\n",
    "    seq = Sequence(reg, MockDevice)\n",
    "    seq.declare_channel('ising', 'rydberg_global')\n",
    "\n",
    "    seq.add(rise, 'ising')\n",
    "    seq.add(sweep, 'ising')\n",
    "    seq.add(fall, 'ising')\n",
    "\n",
    "    #print(seq)\n",
    "    #seq.draw()\n",
    "\n",
    "    simul = Simulation(seq)\n",
    "    simul.run()\n",
    "    \n",
    "    final = simul.output.states[-1]\n",
    "    return get_neel_structure_factor(N,reg,R_blockade,final)\n",
    "\n",
    "                                                                                                                                                                      "
   ]
  },
  {
   "cell_type": "code",
   "execution_count": null,
   "metadata": {},
   "outputs": [],
   "source": [
    "detunings = np.linspace(-3,7,10)\n",
    "omegas = np.linspace(1,6,4)\n",
    "for omax in omegas:\n",
    "    results=[]\n",
    "    for det in detunings:\n",
    "        results.append(calculate_neel(det, omax=omax))\n",
    "    plt.xlabel(r'$\\hbar\\delta_{final}/U$')\n",
    "    plt.title(r'Néel Structure Factor $S_{Neel}$')\n",
    "    plt.plot(detunings, results, 'o', ls='solid', label=rf'$\\Omega$={omax}')\n",
    "    plt.legend()"
   ]
  },
  {
   "cell_type": "markdown",
   "metadata": {},
   "source": [
    "# 2. 1D open Chain"
   ]
  },
  {
   "cell_type": "markdown",
   "metadata": {},
   "source": [
    "One can also try other geometries. In a 1D open boundary chain, for example:"
   ]
  },
  {
   "cell_type": "code",
   "execution_count": null,
   "metadata": {},
   "outputs": [],
   "source": [
    "# Parameters in MHz and ns\n",
    "U = 1.5 * 2*np.pi \n",
    "delta_0 = -10 * U\n",
    "delta_f = 7 * U\n",
    "Omega_max = 10 * U\n",
    "t_rise = 300\n",
    "t_fall = 400\n",
    "t_sweep = 1000 - (t_rise+t_fall)\n",
    "\n",
    "# Register\n",
    "R_blockade = (5.008e6/Omega_max)**(1/6)\n",
    "n_side = 5\n",
    "coords = R_blockade * np.array([(x,y) for x in range(n_side) for y in range(n_side) \n",
    "                    if (x in {0,n_side-1} or y in {0,n_side-1})], dtype=np.float64)\n",
    "reg = Register.from_coordinates(coords, prefix='atom')\n",
    "reg = Register.rectangle(1,11,R_blockade, prefix='q')\n",
    "\n",
    "reg.draw()\n",
    "\n",
    "\n",
    "rise = Pulse.ConstantDetuning(RampWaveform(t_rise, 0., Omega_max), delta_0, 0.)\n",
    "sweep = Pulse.ConstantAmplitude(Omega_max, RampWaveform(t_sweep, delta_0, delta_f), 0.)\n",
    "fall = Pulse.ConstantDetuning(RampWaveform(t_fall, Omega_max, 0.), delta_f, 0.)\n",
    "\n",
    "seq = Sequence(reg, MockDevice)\n",
    "seq.declare_channel('ising', 'rydberg_global')\n",
    "\n",
    "seq.add(rise, 'ising')\n",
    "seq.add(sweep, 'ising')\n",
    "seq.add(fall, 'ising')\n",
    "\n",
    "#print(seq)\n",
    "seq.draw()"
   ]
  },
  {
   "cell_type": "markdown",
   "metadata": {},
   "source": [
    "The phase diagram is plotted below:"
   ]
  },
  {
   "cell_type": "code",
   "execution_count": null,
   "metadata": {},
   "outputs": [],
   "source": [
    "#phase = {'omega':[], 'delta':[], 'time': range(max(seq._last(ch).tf for ch in seq.declared_channels))}\n",
    "delta = []\n",
    "omega = []\n",
    "for x in seq._schedule['ising']:\n",
    "    if isinstance(x.type,Pulse):\n",
    "        omega += list(x.type.amplitude.samples/U)\n",
    "        delta += list(x.type.detuning.samples/U)\n",
    "        \n",
    "fig, ax = plt.subplots()\n",
    "ax.grid(True, which='both')\n",
    "\n",
    "ax.set_ylabel(r\"$\\frac{\\delta(t)}{\\hbar\\,U}$\")\n",
    "ax.set_xlabel(r\"$\\frac{\\Omega(t)}{\\hbar\\,U}$\")\n",
    "ax.set_xlim(0,2)\n",
    "ax.set_ylim(-3,3)\n",
    "ax.axhline(y=0, color='k')\n",
    "ax.axvline(x=0, color='k')\n",
    "\n",
    "y = np.arange(0.0, 6, 0.01)\n",
    "x = 0.5*(1-(y-1)**2)\n",
    "ax.fill_between(x, y, color='green',alpha=0.4)\n",
    "\n",
    "ax.plot(np.array(omega)/(2*np.pi),np.array(delta)/(2*np.pi),'red',lw=2)"
   ]
  },
  {
   "cell_type": "code",
   "execution_count": null,
   "metadata": {},
   "outputs": [],
   "source": [
    "simul = Simulation(seq)\n",
    "\n",
    "up = qutip.basis(2,0)\n",
    "def occupation(j):\n",
    "    prod = [qutip.qeye(2) for _ in range(simul._size)]\n",
    "    prod[j] = up*up.dag()\n",
    "    return qutip.tensor(prod)\n",
    "    \n",
    "occup_list = [occupation(j) for j in range(simul._size)]\n",
    "\n",
    "simul.run(obs_list=occup_list, progress_bar=True)"
   ]
  },
  {
   "cell_type": "markdown",
   "metadata": {},
   "source": [
    "The results are as follows:"
   ]
  },
  {
   "cell_type": "code",
   "execution_count": null,
   "metadata": {},
   "outputs": [],
   "source": [
    "for expv in simul.output.expect:\n",
    "    plt.plot(expv)\n",
    "plt.show()\n",
    "L = len(reg.qubits)\n",
    "res =np.zeros((1,L))\n",
    "for i,ev in enumerate(simul.output.expect):\n",
    "    res[0,i] = ev[-1]\n",
    "plt.matshow(res, cmap = 'hot')\n",
    "print(res)"
   ]
  },
  {
   "cell_type": "code",
   "execution_count": null,
   "metadata": {},
   "outputs": [],
   "source": []
  },
  {
   "cell_type": "code",
   "execution_count": null,
   "metadata": {},
   "outputs": [],
   "source": []
  }
 ],
 "metadata": {
  "kernelspec": {
   "display_name": "Python 3",
   "language": "python",
   "name": "python3"
  },
  "language_info": {
   "codemirror_mode": {
    "name": "ipython",
    "version": 3
   },
   "file_extension": ".py",
   "mimetype": "text/x-python",
   "name": "python",
   "nbconvert_exporter": "python",
   "pygments_lexer": "ipython3",
   "version": "3.9.0"
  }
 },
 "nbformat": 4,
 "nbformat_minor": 4
}
