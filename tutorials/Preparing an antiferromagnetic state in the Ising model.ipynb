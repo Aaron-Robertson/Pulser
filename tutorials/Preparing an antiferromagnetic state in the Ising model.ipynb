{
 "cells": [
  {
   "cell_type": "markdown",
   "metadata": {},
   "source": [
    "# Preparing an AF state in the Ising model\n",
    "\n",
    "This notebook illustrates how to use Pulser to build a sequence for preparing an AF state in the Ising model. It is based on [10.1103/PhysRevX.8.021070](10.1103/PhysRevX.8.021070).\n",
    "\n",
    "We begin by importing some basic modules:"
   ]
  },
  {
   "cell_type": "code",
   "execution_count": null,
   "metadata": {},
   "outputs": [],
   "source": [
    "import numpy as np\n",
    "import itertools\n",
    "import matplotlib.pyplot as plt\n",
    "import qutip\n",
    "\n",
    "from pulser import Pulse, Sequence, Register\n",
    "from pulser.waveforms import ConstantWaveform, RampWaveform\n",
    "from pulser.devices import Chadoq2, MockDevice\n",
    "from pulser.simulation import Simulation"
   ]
  },
  {
   "cell_type": "markdown",
   "metadata": {},
   "source": [
    "# 1. 2D Square Array"
   ]
  },
  {
   "cell_type": "markdown",
   "metadata": {},
   "source": [
    "## Waveforms \n",
    "\n",
    "We are realizing the following program\n",
    "\n",
    "<img src=\"files/AF_Ising_program.png\" alt=\"AF Pulse Sequence\" style=\"width: 320px;\"/>"
   ]
  },
  {
   "cell_type": "markdown",
   "metadata": {},
   "source": [
    "This pulse is defined by the following parameters:"
   ]
  },
  {
   "cell_type": "code",
   "execution_count": null,
   "metadata": {},
   "outputs": [],
   "source": [
    "# Parameters in MHz and ns\n",
    "delta_0 = -30 * 2*np.pi\n",
    "delta_f = 21 * 2*np.pi\n",
    "Omega_max = 18 * 2*np.pi \n",
    "\n",
    "t_rise = 300\n",
    "t_fall = 400\n",
    "t_sweep = 1000 - (t_rise + t_fall)\n",
    "#t_sweep = (delta_f - delta_0)/(2*np.pi*10) * 1000"
   ]
  },
  {
   "cell_type": "markdown",
   "metadata": {},
   "source": [
    "We define our register with an interatomic distance equal to the Rydberg radius. This in turn depends on the maximum Rabi frequency in our pulse sequence."
   ]
  },
  {
   "cell_type": "code",
   "execution_count": null,
   "metadata": {
    "scrolled": true
   },
   "outputs": [],
   "source": [
    "R_blockade = np.round((5.008e6/Omega_max)**(1/6), 3)\n",
    "\n",
    "N_side = 3\n",
    "reg = Register.rectangle(N_side, N_side, R_blockade, prefix='q')\n",
    "print(f'Blockade Radius is: {R_blockade}µm.')\n",
    "reg.draw()"
   ]
  },
  {
   "cell_type": "markdown",
   "metadata": {},
   "source": [
    "## Creating my sequence"
   ]
  },
  {
   "cell_type": "markdown",
   "metadata": {},
   "source": [
    "We compose our pulse with the following objects from Pulser:"
   ]
  },
  {
   "cell_type": "code",
   "execution_count": null,
   "metadata": {},
   "outputs": [],
   "source": [
    "rise = Pulse.ConstantDetuning(RampWaveform(t_rise, 0., Omega_max), delta_0, 0.)\n",
    "sweep = Pulse.ConstantAmplitude(Omega_max, RampWaveform(t_sweep, delta_0, delta_f), 0.)\n",
    "fall = Pulse.ConstantDetuning(RampWaveform(t_fall, Omega_max, 0.), delta_f, 0.)"
   ]
  },
  {
   "cell_type": "code",
   "execution_count": null,
   "metadata": {},
   "outputs": [],
   "source": [
    "seq = Sequence(reg, MockDevice)\n",
    "seq.declare_channel('ising', 'rydberg_global')\n",
    "\n",
    "seq.add(rise, 'ising')\n",
    "seq.add(sweep, 'ising')\n",
    "seq.add(fall, 'ising')\n",
    "\n",
    "#print(seq)\n",
    "seq.draw()"
   ]
  },
  {
   "cell_type": "markdown",
   "metadata": {},
   "source": [
    "## Phase Diagram"
   ]
  },
  {
   "cell_type": "markdown",
   "metadata": {},
   "source": [
    "The pulse sequence travels though the following path in the phase diagram of the system (the shaded area represents the antiferromagnetic phase):"
   ]
  },
  {
   "cell_type": "code",
   "execution_count": null,
   "metadata": {},
   "outputs": [],
   "source": [
    "U = 1 * 2*np.pi\n",
    "delta = []\n",
    "omega = []\n",
    "for x in seq._schedule['ising']:\n",
    "    if isinstance(x.type,Pulse):\n",
    "        omega += list(x.type.amplitude.samples/U)\n",
    "        delta += list(x.type.detuning.samples/U)\n",
    "        \n",
    "fig, ax = plt.subplots()\n",
    "ax.grid(True, which='both')\n",
    "\n",
    "ax.set_ylabel(r\"$\\hbar\\delta(t)/U$\", fontsize=16)\n",
    "ax.set_xlabel(r\"$\\hbar\\Omega(t)/U$\", fontsize=16)\n",
    "ax.set_xlim(0,5)\n",
    "#ax.set_ylim(-7,7)\n",
    "ax.axhline(y=0, color='k')\n",
    "ax.axvline(x=0, color='k')\n",
    "\n",
    "y = np.arange(0.0, 6, 0.01)\n",
    "x = 1.522*(1-0.25*(y-2)**2)\n",
    "ax.fill_between(x, y, alpha=0.4)\n",
    "\n",
    "ax.plot(omega,delta,'red',lw=2)\n",
    "plt.show()\n"
   ]
  },
  {
   "cell_type": "markdown",
   "metadata": {},
   "source": [
    "# Simulation"
   ]
  },
  {
   "cell_type": "markdown",
   "metadata": {},
   "source": [
    "We now run a simulation of the sequence:"
   ]
  },
  {
   "cell_type": "code",
   "execution_count": null,
   "metadata": {},
   "outputs": [],
   "source": [
    "simul = Simulation(seq)"
   ]
  },
  {
   "cell_type": "markdown",
   "metadata": {},
   "source": [
    "The observables to measure will be the occupation operator $|r\\rangle \\langle r|_i$ on each site $i$ of the register, where the Rydberg state $|r\\rangle$ represents the excited state."
   ]
  },
  {
   "cell_type": "code",
   "execution_count": null,
   "metadata": {},
   "outputs": [],
   "source": [
    "def occupation(j,N):\n",
    "    up = qutip.basis(2,0)\n",
    "    prod = [qutip.qeye(2) for _ in range(N)]\n",
    "    prod[j] = up*up.dag()\n",
    "    return qutip.tensor(prod)"
   ]
  },
  {
   "cell_type": "code",
   "execution_count": null,
   "metadata": {},
   "outputs": [],
   "source": [
    "occup_list = [occupation(j,N_side*N_side) for j in range(N_side*N_side)]"
   ]
  },
  {
   "cell_type": "markdown",
   "metadata": {},
   "source": [
    "We now run the simulation and plot the evolution of the expectation values, as well as a representation of the final values after the pulse is applied:"
   ]
  },
  {
   "cell_type": "code",
   "execution_count": null,
   "metadata": {
    "scrolled": true
   },
   "outputs": [],
   "source": [
    "simul.run(obs_list=occup_list, progress_bar=True)\n",
    "\n",
    "for expv in simul.output.expect:\n",
    "    plt.plot(expv)\n",
    "    \n",
    "res=np.zeros((N_side,N_side))\n",
    "for i,ev in enumerate(simul.output.expect):\n",
    "    res[i//N_side,i%N_side] = ev[-1]\n",
    "plt.matshow(res, cmap='hot')\n",
    "print(res)"
   ]
  },
  {
   "cell_type": "markdown",
   "metadata": {},
   "source": [
    "## Spin-Spin Correlation Function"
   ]
  },
  {
   "cell_type": "code",
   "execution_count": null,
   "metadata": {},
   "outputs": [],
   "source": [
    "simul.run(progress_bar=True)"
   ]
  },
  {
   "cell_type": "markdown",
   "metadata": {},
   "source": [
    "Define a function that returns a list of all pairs $(i,j)$ whose distance is ${\\bf r}_i - {\\bf r}_j = (k R_b,l R_b)$ in the atomic array coordinate (both $k$ and $l$ are positive or negative integers within the size of the array):"
   ]
  },
  {
   "cell_type": "code",
   "execution_count": null,
   "metadata": {},
   "outputs": [],
   "source": [
    "def get_corr_pairs(k, l, register):\n",
    "    corr_pairs = []\n",
    "    for i, qi in enumerate(register.qubits):\n",
    "        for j, qj in enumerate(register.qubits):\n",
    "            r_ij = np.round(register.qubits[qi]-register.qubits[qj],3)\n",
    "            distance = np.linalg.norm(r_ij - R_blockade*np.array([k,l]))\n",
    "            if distance<1:\n",
    "                corr_pairs.append([i,j])\n",
    "    return corr_pairs"
   ]
  },
  {
   "cell_type": "code",
   "execution_count": null,
   "metadata": {},
   "outputs": [],
   "source": [
    "def get_corr_function(k, l, reg, state):\n",
    "    N_qubits = len(reg.qubits)\n",
    "    corr_pairs = get_corr_pairs(k, l, reg)\n",
    "    \n",
    "    operators = [occupation(j, N_qubits) for j in range(N_qubits)]\n",
    "    covariance = 0\n",
    "    for qi, qj in corr_pairs:\n",
    "        covariance += qutip.expect(operators[qi]*operators[qj], state)\n",
    "        covariance -= qutip.expect(operators[qi], state)*qutip.expect(operators[qj], state)\n",
    "    return covariance/len(corr_pairs)\n",
    "        \n",
    "def get_full_corr_function(reg, state, config='square'):\n",
    "    N_qubits = len(reg.qubits)\n",
    "    \n",
    "    correlation_function = {}\n",
    "    if config == 'square':\n",
    "        N_side = int(np.sqrt(N_qubits))\n",
    "        for k in range(-N_side+1,N_side):\n",
    "            for l in range(-N_side+1, N_side):\n",
    "                correlation_function[(k,l)] = get_corr_function(k, l, reg, state)\n",
    "    elif config == 'line':\n",
    "        for k in range(-N_qubits+1,N_qubits):\n",
    "            correlation_function[k] = get_corr_function(k, 0, reg, state)\n",
    "    return correlation_function"
   ]
  },
  {
   "cell_type": "code",
   "execution_count": null,
   "metadata": {},
   "outputs": [],
   "source": [
    "final = simul.output.states[-1]\n",
    "correlation_function = get_full_corr_function(reg, final)"
   ]
  },
  {
   "cell_type": "code",
   "execution_count": null,
   "metadata": {},
   "outputs": [],
   "source": [
    "expected_corr_function = {}\n",
    "xi = 1.53\n",
    "for k in range(-N_side+1,N_side):\n",
    "    for l in range(-N_side+1,N_side):\n",
    "        kk = np.abs(k)\n",
    "        ll = np.abs(l)\n",
    "        expected_corr_function[(k,l)] = (-1)**(kk + ll) * np.exp(-(kk + ll)/xi)"
   ]
  },
  {
   "cell_type": "code",
   "execution_count": null,
   "metadata": {},
   "outputs": [],
   "source": [
    "A = 4*np.reshape(list(correlation_function.values()), (2*N_side-1,2*N_side-1))\n",
    "B = A[2,2]*np.reshape(list(expected_corr_function.values()), (2*N_side-1,2*N_side-1))\n",
    "\n",
    "fig, axes = plt.subplots(nrows=2, ncols=1)\n",
    "im_A = axes[0].imshow(A, cmap='coolwarm')\n",
    "axes[0].set_title(r'$g^{(2)}(k,l)$ after simulation')\n",
    "\n",
    "im_B = axes[1].imshow(B, cmap='coolwarm')\n",
    "#axes[1].set_title(r'Exponential $g^{(2)}(k,l)$ expected')\n",
    "\n",
    "fig.colorbar(im_A, ax=axes.ravel().tolist())\n",
    "plt.show()\n"
   ]
  },
  {
   "cell_type": "code",
   "execution_count": null,
   "metadata": {},
   "outputs": [],
   "source": [
    "np.around(A,5)"
   ]
  },
  {
   "cell_type": "code",
   "execution_count": null,
   "metadata": {},
   "outputs": [],
   "source": [
    "np.around(B,5)"
   ]
  },
  {
   "cell_type": "markdown",
   "metadata": {},
   "source": [
    "## Néel Structure Factor"
   ]
  },
  {
   "cell_type": "code",
   "execution_count": null,
   "metadata": {},
   "outputs": [],
   "source": [
    "def get_neel_structure_factor(reg, state):\n",
    "    st_fac = 0\n",
    "    for k in range(-N_side+1, N_side):\n",
    "        for l in range(-N_side+1, N_side):\n",
    "            kk = np.abs(k)\n",
    "            ll = np.abs(l)\n",
    "            if not (k == 0 and l == 0):\n",
    "                st_fac += 4 * (-1)**(kk + ll) * get_corr_function(k,l,reg,state)\n",
    "    return st_fac "
   ]
  },
  {
   "cell_type": "code",
   "execution_count": null,
   "metadata": {},
   "outputs": [],
   "source": [
    "def calculate_neel(det, omax=None):\n",
    "    # Parameters in MHz and ns \n",
    "    U = 1. * 2*np.pi\n",
    "    if omax:\n",
    "        Omega_max=omax*U\n",
    "    else:\n",
    "        Omega_max = 18 * U\n",
    "    delta_0 = -30 * 2*np.pi\n",
    "    delta_f = det * 2*np.pi\n",
    "\n",
    "    R_blockade = (5.008e6/Omega_max)**(1/6)\n",
    "\n",
    "    N = 3\n",
    "    reg = Register.rectangle(N, N, R_blockade, prefix='q')\n",
    "    #print(f'Blockade Radius is: {R_blockade}µm.')\n",
    "    #reg.draw()\n",
    "\n",
    "\n",
    "    t_rise = 300\n",
    "    t_fall = 400\n",
    "    t_sweep = 1000 - (t_rise + t_fall)\n",
    "    #t_sweep = int((delta_f - delta_0)/(2*np.pi*10) * 1000)\n",
    "\n",
    "    rise = Pulse.ConstantDetuning(RampWaveform(t_rise, 0., Omega_max), delta_0, 0.)\n",
    "    sweep = Pulse.ConstantAmplitude(Omega_max, RampWaveform(t_sweep, delta_0, delta_f), 0.)\n",
    "    fall = Pulse.ConstantDetuning(RampWaveform(t_fall, Omega_max, 0.), delta_f, 0.)\n",
    "\n",
    "    seq = Sequence(reg, MockDevice)\n",
    "    seq.declare_channel('ising', 'rydberg_global')\n",
    "\n",
    "    seq.add(rise, 'ising')\n",
    "    seq.add(sweep, 'ising')\n",
    "    seq.add(fall, 'ising')\n",
    "\n",
    "    #print(seq)\n",
    "    #seq.draw()\n",
    "\n",
    "    simul = Simulation(seq)\n",
    "    simul.run()\n",
    "    \n",
    "    final = simul.output.states[-1]\n",
    "    return get_neel_structure_factor(reg,final)\n",
    "\n",
    "                                                                                                                                                                      "
   ]
  },
  {
   "cell_type": "code",
   "execution_count": null,
   "metadata": {},
   "outputs": [],
   "source": [
    "detunings = np.linspace(-5,10,20)\n",
    "results=[]\n",
    "for det in detunings:\n",
    "    results.append(calculate_neel(det))\n",
    "plt.xlabel(r'$\\hbar\\delta_{final}/U$')\n",
    "plt.ylabel(r'Néel Structure Factor $S_{Neel}$')\n",
    "plt.plot(detunings, results, 'o', ls='solid')\n",
    "plt.show()"
   ]
  },
  {
   "cell_type": "markdown",
   "metadata": {},
   "source": [
    "# 2. 1D open Chain"
   ]
  },
  {
   "cell_type": "markdown",
   "metadata": {},
   "source": [
    "One can also try other geometries. In a 1D open boundary chain, for example:"
   ]
  },
  {
   "cell_type": "code",
   "execution_count": null,
   "metadata": {},
   "outputs": [],
   "source": [
    "# Parameters in MHz and ns\n",
    "U = 1. * 2*np.pi \n",
    "delta_0 = -30 * 2*np.pi\n",
    "delta_f = 21 * 2*np.pi\n",
    "Omega_max = 18 * 2*np.pi\n",
    "t_rise = 300\n",
    "t_fall = 400\n",
    "t_sweep = 1000 - (t_rise+t_fall)\n",
    "#t_sweep = (delta_f - delta_0)/(2*np.pi*10) * 1000\n",
    "\n",
    "# Register\n",
    "R_blockade = np.round((5.008e6/Omega_max)**(1/6),3)\n",
    "N_qubits = 13\n",
    "reg = Register.rectangle(1,N_qubits,R_blockade, prefix='q')\n",
    "\n",
    "reg.draw()\n",
    "\n",
    "\n",
    "rise = Pulse.ConstantDetuning(RampWaveform(t_rise, 0., Omega_max), delta_0, 0.)\n",
    "sweep = Pulse.ConstantAmplitude(Omega_max, RampWaveform(t_sweep, delta_0, delta_f), 0.)\n",
    "fall = Pulse.ConstantDetuning(RampWaveform(t_fall, Omega_max, 0.), delta_f, 0.)\n",
    "\n",
    "seq = Sequence(reg, MockDevice)\n",
    "seq.declare_channel('ising', 'rydberg_global')\n",
    "\n",
    "seq.add(rise, 'ising')\n",
    "seq.add(sweep, 'ising')\n",
    "seq.add(fall, 'ising')\n",
    "\n",
    "#print(seq)\n",
    "seq.draw()"
   ]
  },
  {
   "cell_type": "markdown",
   "metadata": {},
   "source": [
    "The phase diagram is plotted below:"
   ]
  },
  {
   "cell_type": "code",
   "execution_count": null,
   "metadata": {},
   "outputs": [],
   "source": [
    "#phase = {'omega':[], 'delta':[], 'time': range(max(seq._last(ch).tf for ch in seq.declared_channels))}\n",
    "delta = []\n",
    "omega = []\n",
    "for x in seq._schedule['ising']:\n",
    "    if isinstance(x.type,Pulse):\n",
    "        omega += list(x.type.amplitude.samples/U)\n",
    "        delta += list(x.type.detuning.samples/U)\n",
    "        \n",
    "fig, ax = plt.subplots()\n",
    "ax.grid(True, which='both')\n",
    "\n",
    "ax.set_ylabel(r\"$\\delta(t)/\\hbar\\,U$\")\n",
    "ax.set_xlabel(r\"$\\Omega(t)/\\hbar\\,U$\")\n",
    "ax.set_xlim(0,4)\n",
    "ax.set_ylim(-7,3)\n",
    "ax.axhline(y=0, color='k')\n",
    "ax.axvline(x=0, color='k')\n",
    "\n",
    "y = np.arange(0.0, 6, 0.01)\n",
    "x = 0.5*(1-(y-1)**2)\n",
    "ax.fill_between(x, y, color='green',alpha=0.4)\n",
    "\n",
    "ax.plot(omega,delta,'red',lw=2)"
   ]
  },
  {
   "cell_type": "code",
   "execution_count": null,
   "metadata": {},
   "outputs": [],
   "source": [
    "simul = Simulation(seq)\n",
    "    \n",
    "occup_list = [occupation(j, N_qubits) for j in range(N_qubits)]\n",
    "\n",
    "simul.run(obs_list=occup_list, progress_bar=True)"
   ]
  },
  {
   "cell_type": "markdown",
   "metadata": {},
   "source": [
    "The results are as follows:"
   ]
  },
  {
   "cell_type": "code",
   "execution_count": null,
   "metadata": {},
   "outputs": [],
   "source": [
    "for expv in simul.output.expect:\n",
    "    plt.plot(expv)\n",
    "plt.show()\n",
    "res =np.zeros((1,N_qubits))\n",
    "for i,ev in enumerate(simul.output.expect):\n",
    "    res[0,i] = ev[-1]\n",
    "plt.matshow(res, cmap = 'hot')\n",
    "print(res)"
   ]
  },
  {
   "cell_type": "markdown",
   "metadata": {},
   "source": [
    "The results for the Spin-Spin correlation function are:"
   ]
  },
  {
   "cell_type": "code",
   "execution_count": null,
   "metadata": {},
   "outputs": [],
   "source": [
    "simul.run(progress_bar=True)"
   ]
  },
  {
   "cell_type": "code",
   "execution_count": null,
   "metadata": {},
   "outputs": [],
   "source": [
    "final = simul.output.states[-1]\n",
    "correlation_function = get_full_corr_function(reg, final, config='line')"
   ]
  },
  {
   "cell_type": "code",
   "execution_count": null,
   "metadata": {},
   "outputs": [],
   "source": [
    "expected_corr_function = {}\n",
    "xi = 1.53\n",
    "for k in range(-N_qubits+1,N_qubits):\n",
    "    kk = np.abs(k)\n",
    "    expected_corr_function[k] = (-1)**(kk) * np.exp(-kk/xi)"
   ]
  },
  {
   "cell_type": "code",
   "execution_count": null,
   "metadata": {},
   "outputs": [],
   "source": [
    "A = 4*np.reshape(list(correlation_function.values()), (1,2*N_qubits-1))\n",
    "B = A[0][10]*np.reshape(list(expected_corr_function.values()), (1,2*N_qubits-1))\n",
    "\n",
    "print(A)\n",
    "fig, axes = plt.subplots(nrows=2, ncols=1)\n",
    "im_A = axes[0].imshow(A, cmap='coolwarm')\n",
    "axes[0].set_title(r'$g^{(2)}(k,l)$ after simulation')\n",
    "\n",
    "im_B = axes[1].imshow(B, cmap='coolwarm')\n",
    "axes[1].set_title(r'Exponential $g^{(2)}(k,l)$ expected')\n",
    "\n",
    "fig.colorbar(im_A, ax=axes.ravel().tolist())\n",
    "plt.show()\n",
    "\n"
   ]
  },
  {
   "cell_type": "code",
   "execution_count": null,
   "metadata": {},
   "outputs": [],
   "source": [
    "plt.plot(A[0],'o')\n",
    "plt.plot(B[0],'o')"
   ]
  }
 ],
 "metadata": {
  "kernelspec": {
   "display_name": "Python 3",
   "language": "python",
   "name": "python3"
  },
  "language_info": {
   "codemirror_mode": {
    "name": "ipython",
    "version": 3
   },
   "file_extension": ".py",
   "mimetype": "text/x-python",
   "name": "python",
   "nbconvert_exporter": "python",
   "pygments_lexer": "ipython3",
   "version": "3.9.0"
  }
 },
 "nbformat": 4,
 "nbformat_minor": 4
}
