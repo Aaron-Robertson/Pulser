{
 "cells": [
  {
   "cell_type": "markdown",
   "metadata": {},
   "source": [
    "# Rydberg Blockade Radius"
   ]
  },
  {
   "cell_type": "markdown",
   "metadata": {},
   "source": [
    "In this notebook we will use Pulser to simulate a sequence of succesive $\\pi$-pulses on a two atom system, each one coupling the atom to its excited Rydberg state. We will vary the interatomic distance and observe where do we begin to observe a strong *Rydberg Blockade* effect. This effect is due to the presence of a van der Waals interaction when both atoms are in the Rydberg state, and prevents the collective ground state $|gg\\rangle$ to couple to $|rr\\rangle$, which is shifted out of resonance. More details can be found in [2002.07413](https://arxiv.org/pdf/2002.07413) "
   ]
  },
  {
   "cell_type": "code",
   "execution_count": 1,
   "metadata": {},
   "outputs": [],
   "source": [
    "import numpy as np\n",
    "import matplotlib.pyplot as plt\n",
    "import qutip"
   ]
  },
  {
   "cell_type": "code",
   "execution_count": 2,
   "metadata": {},
   "outputs": [],
   "source": [
    "from pulser import Pulse, Sequence, Register, Simulation\n",
    "from pulser.devices import Chadoq2\n",
    "from pulser.waveforms import BlackmanWaveform"
   ]
  },
  {
   "cell_type": "code",
   "execution_count": 3,
   "metadata": {},
   "outputs": [
    {
     "data": {
      "image/png": "[encoded data removed]",
      "text/plain": [
       "<Figure size 432x288 with 2 Axes>"
      ]
     },
     "metadata": {
      "needs_background": "light"
     },
     "output_type": "display_data"
    }
   ],
   "source": [
    "duration = 1000 # Typical: ~1 µsec\n",
    "pi_pulse = Pulse.ConstantDetuning(BlackmanWaveform(duration, np.pi), 0., 0)\n",
    "pi_pulse.draw()"
   ]
  },
  {
   "cell_type": "markdown",
   "metadata": {},
   "source": [
    "The pulse that we created will act as a $\\frac{\\hbar \\Omega_i(t)}{2} \\sigma_i^x$ term in the effective Hamiltonian of our system, for $i$ labelling any of the atoms. In addition, we express the shift in energy from the van der Waals interaction between the atoms $1$ and $2$ as $U n_1n_2$, where $n_i = |r\\rangle \\langle r|_i$ and $U = C_6/R^6$. The constant $C_6$ depends on the specific chosen Rydberg level, which in our case is predetermined in the Pasqal device ($C_6/\\hbar \\approx 5008$ GHz.$\\mu m^6$). Our effective Hamiltonian is then:\n",
    "\n",
    "$$H = \\frac{\\hbar \\Omega_1(t)}{2} \\sigma_1^x + \\frac{\\hbar \\Omega_2(t)}{2} \\sigma_2^x + U n_1n_2 $$\n",
    "\n",
    "We impose the blockade condition as $\\hbar \\Omega_{max} \\ll U$ and solve for $R = R_{\\text{blockade}}$ obtaining:"
   ]
  },
  {
   "cell_type": "code",
   "execution_count": 4,
   "metadata": {},
   "outputs": [
    {
     "name": "stdout",
     "output_type": "stream",
     "text": [
      "9.351877348654495\n"
     ]
    }
   ],
   "source": [
    "Omega_max = np.max(pi_pulse.amplitude.samples)\n",
    "R_blockade = Chadoq2.rydberg_blockade_radius(Omega_max)\n",
    "print(R_blockade)"
   ]
  },
  {
   "cell_type": "markdown",
   "metadata": {},
   "source": [
    "We shall define a register of two atoms, for several distances $R$:"
   ]
  },
  {
   "cell_type": "code",
   "execution_count": 6,
   "metadata": {},
   "outputs": [
    {
     "name": "stdout",
     "output_type": "stream",
     "text": [
      "7 remaining...\n"
     ]
    },
    {
     "ename": "AttributeError",
     "evalue": "'SimulationResults' object has no attribute 'output'",
     "output_type": "error",
     "traceback": [
      "\u001b[0;31m------------------------------------------------------------\u001b[0m",
      "\u001b[0;31mAttributeError\u001b[0m             Traceback (most recent call last)",
      "\u001b[0;32m<ipython-input-6-0fc4a3a358ae>\u001b[0m in \u001b[0;36m<module>\u001b[0;34m\u001b[0m\n\u001b[1;32m     26\u001b[0m \u001b[0;34m\u001b[0m\u001b[0m\n\u001b[1;32m     27\u001b[0m     \u001b[0mres\u001b[0m \u001b[0;34m=\u001b[0m \u001b[0msim\u001b[0m\u001b[0;34m.\u001b[0m\u001b[0mrun\u001b[0m\u001b[0;34m(\u001b[0m\u001b[0;34m)\u001b[0m\u001b[0;34m\u001b[0m\u001b[0;34m\u001b[0m\u001b[0m\n\u001b[0;32m---> 28\u001b[0;31m     \u001b[0mdata\u001b[0m\u001b[0;34m.\u001b[0m\u001b[0mappend\u001b[0m\u001b[0;34m(\u001b[0m\u001b[0mres\u001b[0m\u001b[0;34m.\u001b[0m\u001b[0mexpect\u001b[0m\u001b[0;34m(\u001b[0m\u001b[0moccup\u001b[0m\u001b[0;34m)\u001b[0m\u001b[0;34m[\u001b[0m\u001b[0;36m0\u001b[0m\u001b[0;34m]\u001b[0m\u001b[0;34m)\u001b[0m\u001b[0;34m\u001b[0m\u001b[0;34m\u001b[0m\u001b[0m\n\u001b[0m",
      "\u001b[0;32m~/Documents/Projects/pasqal/Pulser/pulser/simresults.py\u001b[0m in \u001b[0;36mexpect\u001b[0;34m(self, obs_list)\u001b[0m\n\u001b[1;32m     49\u001b[0m                 \u001b[0mobs_list\u001b[0m\u001b[0;34m[\u001b[0m\u001b[0mi\u001b[0m\u001b[0;34m]\u001b[0m \u001b[0;34m=\u001b[0m \u001b[0mqutip\u001b[0m\u001b[0;34m.\u001b[0m\u001b[0mQobj\u001b[0m\u001b[0;34m(\u001b[0m\u001b[0mobs\u001b[0m\u001b[0;34m,\u001b[0m \u001b[0mdims\u001b[0m\u001b[0;34m=\u001b[0m\u001b[0mdim_list\u001b[0m\u001b[0;34m)\u001b[0m\u001b[0;34m\u001b[0m\u001b[0;34m\u001b[0m\u001b[0m\n\u001b[1;32m     50\u001b[0m \u001b[0;34m\u001b[0m\u001b[0m\n\u001b[0;32m---> 51\u001b[0;31m         \u001b[0;32mreturn\u001b[0m \u001b[0;34m[\u001b[0m\u001b[0mqutip\u001b[0m\u001b[0;34m.\u001b[0m\u001b[0mexpect\u001b[0m\u001b[0;34m(\u001b[0m\u001b[0mobs\u001b[0m\u001b[0;34m,\u001b[0m \u001b[0mself\u001b[0m\u001b[0;34m.\u001b[0m\u001b[0moutput\u001b[0m\u001b[0;34m)\u001b[0m \u001b[0;32mfor\u001b[0m \u001b[0mobs\u001b[0m \u001b[0;32min\u001b[0m \u001b[0mobs_list\u001b[0m\u001b[0;34m]\u001b[0m\u001b[0;34m\u001b[0m\u001b[0;34m\u001b[0m\u001b[0m\n\u001b[0m\u001b[1;32m     52\u001b[0m \u001b[0;34m\u001b[0m\u001b[0m\n\u001b[1;32m     53\u001b[0m     \u001b[0;32mdef\u001b[0m \u001b[0msample_final_state\u001b[0m\u001b[0;34m(\u001b[0m\u001b[0mself\u001b[0m\u001b[0;34m,\u001b[0m \u001b[0mN_samples\u001b[0m\u001b[0;34m=\u001b[0m\u001b[0;36m1000\u001b[0m\u001b[0;34m)\u001b[0m\u001b[0;34m:\u001b[0m\u001b[0;34m\u001b[0m\u001b[0;34m\u001b[0m\u001b[0m\n",
      "\u001b[0;32m~/Documents/Projects/pasqal/Pulser/pulser/simresults.py\u001b[0m in \u001b[0;36m<listcomp>\u001b[0;34m(.0)\u001b[0m\n\u001b[1;32m     49\u001b[0m                 \u001b[0mobs_list\u001b[0m\u001b[0;34m[\u001b[0m\u001b[0mi\u001b[0m\u001b[0;34m]\u001b[0m \u001b[0;34m=\u001b[0m \u001b[0mqutip\u001b[0m\u001b[0;34m.\u001b[0m\u001b[0mQobj\u001b[0m\u001b[0;34m(\u001b[0m\u001b[0mobs\u001b[0m\u001b[0;34m,\u001b[0m \u001b[0mdims\u001b[0m\u001b[0;34m=\u001b[0m\u001b[0mdim_list\u001b[0m\u001b[0;34m)\u001b[0m\u001b[0;34m\u001b[0m\u001b[0;34m\u001b[0m\u001b[0m\n\u001b[1;32m     50\u001b[0m \u001b[0;34m\u001b[0m\u001b[0m\n\u001b[0;32m---> 51\u001b[0;31m         \u001b[0;32mreturn\u001b[0m \u001b[0;34m[\u001b[0m\u001b[0mqutip\u001b[0m\u001b[0;34m.\u001b[0m\u001b[0mexpect\u001b[0m\u001b[0;34m(\u001b[0m\u001b[0mobs\u001b[0m\u001b[0;34m,\u001b[0m \u001b[0mself\u001b[0m\u001b[0;34m.\u001b[0m\u001b[0moutput\u001b[0m\u001b[0;34m)\u001b[0m \u001b[0;32mfor\u001b[0m \u001b[0mobs\u001b[0m \u001b[0;32min\u001b[0m \u001b[0mobs_list\u001b[0m\u001b[0;34m]\u001b[0m\u001b[0;34m\u001b[0m\u001b[0;34m\u001b[0m\u001b[0m\n\u001b[0m\u001b[1;32m     52\u001b[0m \u001b[0;34m\u001b[0m\u001b[0m\n\u001b[1;32m     53\u001b[0m     \u001b[0;32mdef\u001b[0m \u001b[0msample_final_state\u001b[0m\u001b[0;34m(\u001b[0m\u001b[0mself\u001b[0m\u001b[0;34m,\u001b[0m \u001b[0mN_samples\u001b[0m\u001b[0;34m=\u001b[0m\u001b[0;36m1000\u001b[0m\u001b[0;34m)\u001b[0m\u001b[0;34m:\u001b[0m\u001b[0;34m\u001b[0m\u001b[0;34m\u001b[0m\u001b[0m\n",
      "\u001b[0;31mAttributeError\u001b[0m: 'SimulationResults' object has no attribute 'output'"
     ]
    }
   ],
   "source": [
    "data = []\n",
    "divisions = 7\n",
    "distances = np.linspace(6.5,14,divisions)\n",
    "\n",
    "r = [1,0]\n",
    "rr = np.kron(r,r) # |rr>\n",
    "occup = [np.outer(rr, np.conj(rr))]  # |rr><rr|\n",
    "\n",
    "for i,R in enumerate(distances):\n",
    "    print(f'{divisions-i} remaining...')\n",
    "    # Atom Register and Device\n",
    "    reg = Register.rectangle(1,2,spacing=R, prefix='atom')\n",
    "    #reg.draw()\n",
    "\n",
    "    # Pulse Sequence\n",
    "    seq = Sequence(reg, Chadoq2)\n",
    "    seq.declare_channel('ryd','rydberg_local','atom0')\n",
    "    seq.declare_channel('ryd2','rydberg_local2','atom1')\n",
    "    seq.add(pi_pulse,'ryd')\n",
    "    seq.align('ryd','ryd2')\n",
    "    seq.add(pi_pulse,'ryd2')\n",
    "    #seq.draw()\n",
    "\n",
    "    sim = Simulation(seq)\n",
    "    plt.show()\n",
    "    \n",
    "    res = sim.run()\n",
    "    data.append(res.expect(occup)[0])"
   ]
  },
  {
   "cell_type": "markdown",
   "metadata": {},
   "source": [
    "We plot the results"
   ]
  },
  {
   "cell_type": "code",
   "execution_count": null,
   "metadata": {},
   "outputs": [],
   "source": [
    "for i,R in enumerate(distances):\n",
    "    plt.plot(res[i], label=f'R={R}')\n",
    "    plt.xlabel('Time (ns)', fontsize=14)\n",
    "    plt.ylabel(r'Occupation of $|rr\\rangle$', fontsize=14)\n",
    "    plt.legend()"
   ]
  },
  {
   "cell_type": "markdown",
   "metadata": {},
   "source": [
    "Notice how the occupation of $|rr\\rangle$ is suppressed for decreasing $R$, in particular below our estimated Rydberg blockade radius, $R \\lesssim 9.35\\mu m$. Once the interatomic distance grows, the excited Rydberg state $|rr\\rangle$ becomes populated again: the blockade effect is lost."
   ]
  }
 ],
 "metadata": {
  "kernelspec": {
   "display_name": "Python 3",
   "language": "python",
   "name": "python3"
  },
  "language_info": {
   "codemirror_mode": {
    "name": "ipython",
    "version": 3
   },
   "file_extension": ".py",
   "mimetype": "text/x-python",
   "name": "python",
   "nbconvert_exporter": "python",
   "pygments_lexer": "ipython3",
   "version": "3.9.0"
  }
 },
 "nbformat": 4,
 "nbformat_minor": 4
}
