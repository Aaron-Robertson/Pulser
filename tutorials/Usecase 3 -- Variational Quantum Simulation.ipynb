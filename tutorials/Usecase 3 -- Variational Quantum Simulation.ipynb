{
 "cells": [
  {
   "cell_type": "code",
   "execution_count": 1,
   "metadata": {},
   "outputs": [],
   "source": [
    "from pulser import Pulse, Sequence, Register\n",
    "from pulser.devices import Chadoq2\n",
    "import pulser.waveforms as waveforms"
   ]
  },
  {
   "cell_type": "code",
   "execution_count": 2,
   "metadata": {},
   "outputs": [],
   "source": [
    "import numpy as np\n",
    "from pprint import pprint\n",
    "import matplotlib.pyplot as plt\n",
    "import qutip\n",
    "import scipy"
   ]
  },
  {
   "cell_type": "markdown",
   "metadata": {},
   "source": [
    "# 1. Layer-based sequences\n",
    "\n",
    "We shall implement a version of Variational Quantum Simulation, following https://arxiv.org/pdf/1810.03421 ."
   ]
  },
  {
   "cell_type": "markdown",
   "metadata": {},
   "source": [
    "First we set up our atom array"
   ]
  },
  {
   "cell_type": "code",
   "execution_count": 3,
   "metadata": {},
   "outputs": [],
   "source": [
    "# Atom Register\n",
    "N = 3\n",
    "M = 3\n",
    "reg = Register.rectangle(N, M, spacing=4.9,prefix='atom')\n",
    "#reg.draw() "
   ]
  },
  {
   "cell_type": "markdown",
   "metadata": {},
   "source": [
    "Next, we select our device and we declare the channels that we will be using"
   ]
  },
  {
   "cell_type": "code",
   "execution_count": 4,
   "metadata": {},
   "outputs": [
    {
     "name": "stdout",
     "output_type": "stream",
     "text": [
      "{'ryd': Rydberg.Global(Max Absolute Detuning: 50 MHz, Max Amplitude: 2.5 MHz, Basis: 'ground-rydberg')}\n"
     ]
    }
   ],
   "source": [
    "device = Chadoq2(reg.qubits)\n",
    "seq = Sequence(device) # Resets if called again\n",
    "seq.declare_channel('ryd', 'rydberg_global') # We shall be acting on all the atoms\n",
    "pprint(seq.declared_channels)"
   ]
  },
  {
   "cell_type": "markdown",
   "metadata": {},
   "source": [
    "Create the layers of the circuit as pulse sequences"
   ]
  },
  {
   "cell_type": "code",
   "execution_count": 5,
   "metadata": {},
   "outputs": [
    {
     "data": {
      "image/png": "[encoded data removed]",
      "text/plain": [
       "<Figure size 1440x324 with 3 Axes>"
      ]
     },
     "metadata": {},
     "output_type": "display_data"
    }
   ],
   "source": [
    "layers = 3\n",
    "\n",
    "cost = Pulse.ConstantPulse(150, 1, 0, 0)\n",
    "mix = Pulse.ConstantPulse(200, 0, 1, 0)\n",
    "\n",
    "for _ in range(layers):\n",
    "    seq.add(mix, 'ryd')\n",
    "    seq.add(cost, 'ryd')\n",
    "\n",
    "seq.draw()"
   ]
  },
  {
   "cell_type": "markdown",
   "metadata": {},
   "source": [
    "# 2. Emulating one run of the sequence"
   ]
  },
  {
   "cell_type": "markdown",
   "metadata": {},
   "source": [
    "First we create the Qobjs that represent the Quantum Resource"
   ]
  },
  {
   "cell_type": "code",
   "execution_count": 6,
   "metadata": {},
   "outputs": [],
   "source": [
    "# Global variable for generating tensor product of identities\n",
    "ones = [qutip.qeye(2) for _ in range(N*M)]\n",
    "\n",
    "#Functions to Define Operators\n",
    "def local_operator(qubit_id,operator):\n",
    "    \"\"\"\n",
    "    Returns a local gate at a qubit\n",
    "    \"\"\"\n",
    "    temp = [qutip.qeye(2) for _ in range(N*M)]\n",
    "    pos =  reg._ids.index(qubit_id)\n",
    "    temp[pos] = operator\n",
    "    return qutip.tensor(temp)\n",
    "\n",
    "def two_body_operator(qubit_id1, qubit_id2, operator):\n",
    "    \"\"\"\n",
    "    Returns a local gate at a qubit\n",
    "    \"\"\"\n",
    "    if qubit_id1 == qubit_id2:\n",
    "        raise ValueError(\"Same Atom ID given for a Two-body operator\")\n",
    "\n",
    "    temp = [qutip.qeye(2) for _ in range(N*M)]\n",
    "    pos1 =  reg._ids.index(qubit_id1)\n",
    "    pos2 =  reg._ids.index(qubit_id2)\n",
    "    temp[pos1] = operator\n",
    "    temp[pos2] = operator\n",
    "    \n",
    "    return qutip.tensor(temp)"
   ]
  },
  {
   "cell_type": "markdown",
   "metadata": {},
   "source": [
    "We now construct the Hamiltonian"
   ]
  },
  {
   "cell_type": "code",
   "execution_count": 7,
   "metadata": {},
   "outputs": [
    {
     "name": "stdout",
     "output_type": "stream",
     "text": [
      "atom0 atom1 7.224761580900886\n",
      "atom0 atom2 0.11288689970157634\n",
      "atom0 atom3 7.224761580900886\n",
      "atom0 atom4 0.9030951976126107\n",
      "atom0 atom5 0.057798092647207075\n",
      "atom0 atom6 0.11288689970157634\n",
      "atom0 atom7 0.057798092647207075\n",
      "atom0 atom8 0.014110862462697042\n",
      "atom1 atom2 7.224761580900886\n",
      "atom1 atom3 0.9030951976126107\n",
      "atom1 atom4 7.224761580900886\n",
      "atom1 atom5 0.9030951976126107\n",
      "atom1 atom6 0.057798092647207075\n",
      "atom1 atom7 0.11288689970157634\n",
      "atom1 atom8 0.057798092647207075\n",
      "atom2 atom3 0.057798092647207075\n",
      "atom2 atom4 0.9030951976126107\n",
      "atom2 atom5 7.224761580900886\n",
      "atom2 atom6 0.014110862462697042\n",
      "atom2 atom7 0.057798092647207075\n",
      "atom2 atom8 0.11288689970157634\n",
      "atom3 atom4 7.224761580900886\n",
      "atom3 atom5 0.11288689970157634\n",
      "atom3 atom6 7.224761580900886\n",
      "atom3 atom7 0.9030951976126107\n",
      "atom3 atom8 0.057798092647207075\n",
      "atom4 atom5 7.224761580900886\n",
      "atom4 atom6 0.9030951976126107\n",
      "atom4 atom7 7.224761580900886\n",
      "atom4 atom8 0.9030951976126107\n",
      "atom5 atom6 0.057798092647207075\n",
      "atom5 atom7 0.9030951976126107\n",
      "atom5 atom8 7.224761580900886\n",
      "atom6 atom7 7.224761580900886\n",
      "atom6 atom8 0.11288689970157634\n",
      "atom7 atom8 7.224761580900886\n"
     ]
    }
   ],
   "source": [
    "# Sum of sigma x:\n",
    "H_X = 0 # Time-dependent\n",
    "for qubit in reg.qubits:\n",
    "    H_X += local_operator(qubit,qutip.sigmax())\n",
    "    \n",
    "# Sum of occupations:\n",
    "occup = 0.5*(qutip.sigmaz()+1)\n",
    "H_N = 0 # Time-dependent\n",
    "for qubit in reg.qubits:\n",
    "    H_N -= local_operator(qubit, occup)\n",
    "    \n",
    "# Sum of Neighbors:\n",
    "H_NN = 0 # Time-independent\n",
    "C6 = 1e5\n",
    "\n",
    "import itertools\n",
    "for qubit1,qubit2 in itertools.combinations(reg._ids,2):\n",
    "    R = np.sqrt(np.sum((reg.qubits[qubit1]-reg.qubits[qubit2])**2))\n",
    "    coupling = C6/R**6\n",
    "    H_NN += coupling * two_body_operator(qubit1,qubit2,occup)\n",
    "\n",
    "    print(qubit1,qubit2, coupling)"
   ]
  },
  {
   "cell_type": "markdown",
   "metadata": {},
   "source": [
    "Now we want to extract the contents of the sequences into the qubits, as instructions for emulation in qutip"
   ]
  },
  {
   "cell_type": "code",
   "execution_count": 8,
   "metadata": {},
   "outputs": [
    {
     "data": {
      "text/plain": [
       "[<matplotlib.lines.Line2D at 0x7fb2a1973fd0>]"
      ]
     },
     "execution_count": 8,
     "metadata": {},
     "output_type": "execute_result"
    },
    {
     "data": {
      "image/png": "[encoded data removed]",
      "text/plain": [
       "<Figure size 432x288 with 1 Axes>"
      ]
     },
     "metadata": {
      "needs_background": "light"
     },
     "output_type": "display_data"
    }
   ],
   "source": [
    "# Get Rabi freq and detuning samples from all sequence\n",
    "\n",
    "amp = []\n",
    "det = []\n",
    "for x in seq._schedule['ryd']:\n",
    "    obj = x.type\n",
    "    if type(obj) == Pulse:\n",
    "        for t in range(obj.duration): \n",
    "            amp.append(obj.amplitude.samples[t])\n",
    "            det.append(obj.detuning.samples[t])\n",
    "\n",
    "plt.plot(range(len(amp)),amp,'.')\n",
    "plt.plot(range(len(det)),det,'.')"
   ]
  },
  {
   "cell_type": "markdown",
   "metadata": {},
   "source": [
    "We define a function to find the k-nearest neighbors, which we can then use as a template to search for atoms inside a Rydberg Blockade radius, for example."
   ]
  },
  {
   "cell_type": "code",
   "execution_count": 9,
   "metadata": {},
   "outputs": [],
   "source": [
    "coordinates = list(reg.qubits.values())\n",
    "nn = scipy.spatial.KDTree(coordinates)\n",
    "\n",
    "def get_nn(q):\n",
    "    distances, indexes = nn.query(reg.qubits[q],k=5)\n",
    "    ans=[]\n",
    "    for i in range(len(indexes)):\n",
    "        if distances[i] == min(distances[1:]): #can be modified for different 'neighbor' defs\n",
    "            ans.append([reg._ids[indexes[i]],distances[i]])\n",
    "    return ans"
   ]
  },
  {
   "cell_type": "markdown",
   "metadata": {},
   "source": [
    "In a rectangular array, inner atoms have four nearest neighbors:"
   ]
  },
  {
   "cell_type": "code",
   "execution_count": 10,
   "metadata": {},
   "outputs": [
    {
     "data": {
      "text/plain": [
       "[['atom1', 4.9], ['atom3', 4.9], ['atom5', 4.9], ['atom7', 4.9]]"
      ]
     },
     "execution_count": 10,
     "metadata": {},
     "output_type": "execute_result"
    }
   ],
   "source": [
    "get_nn('atom4')"
   ]
  },
  {
   "cell_type": "markdown",
   "metadata": {},
   "source": [
    "Define an observable"
   ]
  },
  {
   "cell_type": "code",
   "execution_count": 11,
   "metadata": {},
   "outputs": [],
   "source": [
    "#Observable and Initial State\n",
    "#observable = local_operator(\"q1\",'occup') + two_body_operator('q1','q3','occup')\n",
    "psi0 = qutip.tensor([qutip.basis(2, 0) for _ in range(N*M)]) # all up\n",
    "\n",
    "# Observable (usually diagonal)\n",
    "observable = 0\n",
    "for qubit in reg.qubits:\n",
    "    observable += local_operator(qubit,occup)\n",
    "\n",
    "for qubit1 in reg.qubits:\n",
    "    for qubit2, R in get_nn(qubit1):\n",
    "        observable += two_body_operator(qubit1,qubit2,occup)\n",
    "        "
   ]
  },
  {
   "cell_type": "markdown",
   "metadata": {},
   "source": [
    "Choose an initial state"
   ]
  },
  {
   "cell_type": "code",
   "execution_count": 12,
   "metadata": {},
   "outputs": [],
   "source": [
    "# Initial State \n",
    "# all_down = [qutip.basis(2,1) for _ in range(N*M)]\n",
    "\n",
    "# Initial State (\"all_plus\")\n",
    "plus = (1/np.sqrt(2))*(qutip.basis(2,0)+qutip.basis(2,1))\n",
    "psi0 = qutip.tensor([plus for _ in range(N*M)])"
   ]
  },
  {
   "cell_type": "markdown",
   "metadata": {},
   "source": [
    "Time-evolve using QuTiP"
   ]
  },
  {
   "cell_type": "code",
   "execution_count": 13,
   "metadata": {},
   "outputs": [],
   "source": [
    "# Callables for time evolution\n",
    "def omega (t,args):\n",
    "    return amp[int(t)]\n",
    "\n",
    "def delta (t,args):\n",
    "    return det[int(t)]\n",
    "\n",
    "H = [H_NN, [H_N, delta], [H_X, omega]]\n",
    "\n",
    "total_duration = max([seq._last(ch).tf for ch in seq._schedule])\n"
   ]
  },
  {
   "cell_type": "code",
   "execution_count": 14,
   "metadata": {},
   "outputs": [],
   "source": [
    "output = qutip.sesolve(H, psi0, range(total_duration),[observable]) #Evaluate observable in the evolved state"
   ]
  },
  {
   "cell_type": "code",
   "execution_count": 15,
   "metadata": {},
   "outputs": [
    {
     "data": {
      "text/plain": [
       "[<matplotlib.lines.Line2D at 0x7fb2a1a38c10>]"
      ]
     },
     "execution_count": 15,
     "metadata": {},
     "output_type": "execute_result"
    },
    {
     "data": {
      "image/png": "[encoded data removed]",
      "text/plain": [
       "<Figure size 432x288 with 1 Axes>"
      ]
     },
     "metadata": {
      "needs_background": "light"
     },
     "output_type": "display_data"
    }
   ],
   "source": [
    "plt.plot(range(total_duration),output.expect[0])"
   ]
  },
  {
   "cell_type": "markdown",
   "metadata": {},
   "source": [
    "# Putting Everything into a function"
   ]
  },
  {
   "cell_type": "markdown",
   "metadata": {},
   "source": [
    "We want to parametrize this routine. Define atom array:"
   ]
  },
  {
   "cell_type": "code",
   "execution_count": 16,
   "metadata": {},
   "outputs": [],
   "source": [
    "# Atom Register\n",
    "N = 1\n",
    "M = 4\n",
    "reg = Register.rectangle(N, M, spacing=6.1,prefix='atom')\n",
    "#reg.draw() \n",
    "device = Chadoq2(reg.qubits)"
   ]
  },
  {
   "cell_type": "code",
   "execution_count": 17,
   "metadata": {},
   "outputs": [],
   "source": [
    "coordinates = list(reg.qubits.values())\n",
    "nn = scipy.spatial.KDTree(coordinates)\n",
    "\n",
    "def get_nn(q):\n",
    "    distances, indexes = nn.query(reg.qubits[q],k=5)\n",
    "    ans=[]\n",
    "    for i in range(len(indexes)):\n",
    "        if distances[i] == min(distances[1:]): #can be modified for different 'neighbor' defs\n",
    "            ans.append([reg._ids[indexes[i]],distances[i]])\n",
    "    return ans"
   ]
  },
  {
   "cell_type": "code",
   "execution_count": 18,
   "metadata": {},
   "outputs": [
    {
     "data": {
      "text/plain": [
       "[['atom2', 6.099999999999998]]"
      ]
     },
     "execution_count": 18,
     "metadata": {},
     "output_type": "execute_result"
    }
   ],
   "source": [
    "get_nn('atom3')"
   ]
  },
  {
   "cell_type": "code",
   "execution_count": 19,
   "metadata": {},
   "outputs": [],
   "source": [
    "#Observable and Initial State\n",
    "\n",
    "# Observable (usually diagonal)\n",
    "observable = 0\n",
    "for qubit in reg.qubits:\n",
    "    observable += local_operator(qubit,occup)\n",
    "\n",
    "for qubit1 in reg.qubits:\n",
    "    for qubit2, R in get_nn(qubit1):\n",
    "        observable += 3*two_body_operator(qubit1,qubit2,occup)\n",
    "\n",
    "# Initial State (\"all_plus\")\n",
    "plus = (1/np.sqrt(2))*(qutip.basis(2,0)+qutip.basis(2,1))\n",
    "psi0 = qutip.tensor([plus for _ in range(N*M)])"
   ]
  },
  {
   "cell_type": "markdown",
   "metadata": {},
   "source": [
    "Build Resource Hamiltonian:\n",
    "\n",
    "\\begin{align}\n",
    "\\mathcal H_R = \\Omega(t) \\sum_i \\sigma_i^x + \\delta(t) \\sum_i n_i + \\sum_{i<j} \\frac{C_6}{R_{ij}^6} n_in_j\n",
    "\\end{align}\n",
    "\n",
    "Detuning drives (diagonal) evolution that commutes with Z. Amplitude drives non-commuting (mixing) evolution"
   ]
  },
  {
   "cell_type": "markdown",
   "metadata": {},
   "source": [
    "Define a Cost Function"
   ]
  },
  {
   "cell_type": "code",
   "execution_count": 20,
   "metadata": {},
   "outputs": [],
   "source": [
    "# Sequence based on Constant Pulses and variable durations\n",
    "evol = lambda duration: Pulse.ConstantPulse(duration, 0, 4, 0)\n",
    "mix = lambda duration: Pulse.ConstantPulse(duration, 0.2, 0, 0)\n",
    "\n",
    "def build_sequence(params,layers=1,draw=False):\n",
    "    seq = Sequence(device) # Resets sequence every time its called\n",
    "    seq.declare_channel('ryd', 'rydberg_global') # We shall be acting on all the atoms\n",
    "\n",
    "    for p in range(layers):\n",
    "        seq.add(evol(params[0][p]), 'ryd') #amplitude\n",
    "        seq.add(mix(params[1][p]), 'ryd') #detuning    \n",
    "        \n",
    "    if draw: seq.draw()\n",
    "    \n",
    "    amp = []\n",
    "    det = []\n",
    "    \n",
    "    #Get pulse sequence\n",
    "    for x in seq._schedule['ryd']:\n",
    "        block = x.type\n",
    "        if type(block) == Pulse:\n",
    "            for t in range(block.duration): # Add samples \n",
    "                amp.append(block.amplitude.samples[t])\n",
    "                det.append(block.detuning.samples[t])\n",
    "                \n",
    "    return amp,det"
   ]
  },
  {
   "cell_type": "code",
   "execution_count": 21,
   "metadata": {},
   "outputs": [],
   "source": [
    "def build_hamiltonian(reg):\n",
    "    # Sum of sigma x:\n",
    "    H_X = 0 # Time-dependent (Rabi Frequency)\n",
    "    H_N = 0 # Time-dependent (Detuning)\n",
    "    VdW = 0 # Time-independent (Van der Waals)\n",
    "    C6 = 1e6\n",
    "\n",
    "    for qubit in reg.qubits:\n",
    "        H_X += local_operator(qubit,qutip.sigmax())\n",
    "        H_N -= local_operator(qubit,occup) # Notice the minus sign (bias towards all up)\n",
    "        for qubit2 in reg._ids[reg._ids.index(qubit)+1::]:\n",
    "            R = np.sqrt(np.sum((reg.qubits[qubit]-reg.qubits[qubit2])**2))\n",
    "            coupling = C6/R**6\n",
    "            VdW += coupling * two_body_operator(qubit,qubit2,occup)\n",
    "            \n",
    "    return VdW, H_N, H_X"
   ]
  },
  {
   "cell_type": "code",
   "execution_count": 22,
   "metadata": {},
   "outputs": [],
   "source": [
    "def cost_function(params,layers=1,draw=False):\n",
    "\n",
    "    amp, det = build_sequence(params,layers,draw)\n",
    "    \n",
    "    # Callables for time evolution\n",
    "    delta = lambda t,args: det[int(t)]\n",
    "    omega = lambda t,args: amp[int(t)]\n",
    "\n",
    "    VdW, H_N, H_X = build_hamiltonian(reg)\n",
    "    H = [VdW, [H_N, delta], [H_X, omega]]\n",
    "    tlist = range(len(amp))\n",
    "\n",
    "    output = qutip.sesolve(H, psi0 , tlist, [observable])\n",
    "    return(output.expect[0][-1]) #return final (in time) expectation value"
   ]
  },
  {
   "cell_type": "markdown",
   "metadata": {},
   "source": [
    "Test some layers with random durations:"
   ]
  },
  {
   "cell_type": "code",
   "execution_count": 23,
   "metadata": {},
   "outputs": [
    {
     "name": "stdout",
     "output_type": "stream",
     "text": [
      "[[75 54]\n",
      " [87 78]]\n"
     ]
    },
    {
     "data": {
      "image/png": "[encoded data removed]",
      "text/plain": [
       "<Figure size 1440x324 with 3 Axes>"
      ]
     },
     "metadata": {},
     "output_type": "display_data"
    },
    {
     "name": "stdout",
     "output_type": "stream",
     "text": [
      "5.623826960873362\n"
     ]
    }
   ],
   "source": [
    "np.random.seed(5)\n",
    "\n",
    "params = np.random.randint(40,100,size=(2,2))\n",
    "\n",
    "print(params)\n",
    "print(cost_function(params,layers=2,draw=True))"
   ]
  },
  {
   "cell_type": "markdown",
   "metadata": {},
   "source": [
    "Check some parameter space at depth 1:"
   ]
  },
  {
   "cell_type": "code",
   "execution_count": 24,
   "metadata": {},
   "outputs": [
    {
     "name": "stdout",
     "output_type": "stream",
     "text": [
      "Elapsed time: 64.70551705360413\n"
     ]
    },
    {
     "data": {
      "image/png": "[encoded data removed]",
      "text/plain": [
       "<Figure size 432x288 with 1 Axes>"
      ]
     },
     "metadata": {
      "needs_background": "light"
     },
     "output_type": "display_data"
    }
   ],
   "source": [
    "import time\n",
    "\n",
    "param_space = [np.arange(10,20),np.arange(10,40)]\n",
    "results = np.zeros((len(param_space[0]),len(param_space[1])))\n",
    "\n",
    "start = time.time()\n",
    "for j,theta1 in enumerate(param_space[0]):\n",
    "    for k,theta2 in enumerate(param_space[1]):\n",
    "        params = [[theta1],[theta2]]\n",
    "        results[j,k] = cost_function(params)\n",
    "        #print(params, results[theta1,theta2])\n",
    "print(f'Elapsed time: {time.time()-start}')\n",
    "        \n",
    "plt.ylabel('theta1')\n",
    "plt.xlabel('theta2')\n",
    "plt.title('Cost Function wrt Parameters')\n",
    "plt.imshow(results);"
   ]
  },
  {
   "cell_type": "markdown",
   "metadata": {},
   "source": [
    "Optimize Parameters in a proper region (using scipy minimize)"
   ]
  }
 ],
 "metadata": {
  "kernelspec": {
   "display_name": "Python 3",
   "language": "python",
   "name": "python3"
  },
  "language_info": {
   "codemirror_mode": {
    "name": "ipython",
    "version": 3
   },
   "file_extension": ".py",
   "mimetype": "text/x-python",
   "name": "python",
   "nbconvert_exporter": "python",
   "pygments_lexer": "ipython3",
   "version": "3.8.5"
  }
 },
 "nbformat": 4,
 "nbformat_minor": 4
}
