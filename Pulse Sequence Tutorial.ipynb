{
 "cells": [
  {
   "cell_type": "code",
   "execution_count": 9,
   "metadata": {},
   "outputs": [],
   "source": [
    "import numpy as np\n",
    "from pprint import pprint\n",
    "from devices import Chadoq2\n",
    "from sequences import Sequence\n",
    "from pulses import Pulse"
   ]
  },
  {
   "cell_type": "markdown",
   "metadata": {},
   "source": [
    "#### 1. Defining the positions of the atoms and naming the qubit on each position"
   ]
  },
  {
   "cell_type": "code",
   "execution_count": 10,
   "metadata": {
    "scrolled": true
   },
   "outputs": [
    {
     "data": {
      "text/plain": [
       "{0: array([-7.5, -7.5]),\n",
       " 1: array([-7.5, -2.5]),\n",
       " 2: array([-7.5,  2.5]),\n",
       " 3: array([-7.5,  7.5]),\n",
       " 4: array([-2.5, -7.5]),\n",
       " 5: array([-2.5, -2.5]),\n",
       " 6: array([-2.5,  2.5]),\n",
       " 7: array([-2.5,  7.5]),\n",
       " 8: array([ 2.5, -7.5]),\n",
       " 9: array([ 2.5, -2.5]),\n",
       " 10: array([2.5, 2.5]),\n",
       " 11: array([2.5, 7.5]),\n",
       " 12: array([ 7.5, -7.5]),\n",
       " 13: array([ 7.5, -2.5]),\n",
       " 14: array([7.5, 2.5]),\n",
       " 15: array([7.5, 7.5])}"
      ]
     },
     "execution_count": 10,
     "metadata": {},
     "output_type": "execute_result"
    }
   ],
   "source": [
    "L = 4\n",
    "square = np.array([[i, j] for i in range(L) for j in range(L)], dtype=float)\n",
    "square -= np.mean(square, axis=0)\n",
    "square *= 5\n",
    "\n",
    "qubits = dict(enumerate(square))\n",
    "qubits"
   ]
  },
  {
   "cell_type": "markdown",
   "metadata": {},
   "source": [
    "#### 2. Initializing a device and the Sequence"
   ]
  },
  {
   "cell_type": "code",
   "execution_count": 11,
   "metadata": {},
   "outputs": [],
   "source": [
    "device = Chadoq2(qubits)\n",
    "seq = Sequence(device)"
   ]
  },
  {
   "cell_type": "markdown",
   "metadata": {},
   "source": [
    "#### 3. Declaring the channels that will be used"
   ]
  },
  {
   "cell_type": "markdown",
   "metadata": {},
   "source": [
    "Inspecting what channels are available on this device:"
   ]
  },
  {
   "cell_type": "code",
   "execution_count": 12,
   "metadata": {},
   "outputs": [
    {
     "data": {
      "text/plain": [
       "{'rydberg_global': Rydberg(global, Max Absolute Detuning: 50 MHz, Max Amplitude: 1.25 MHz),\n",
       " 'rydberg_local': Rydberg(local, Max Absolute Detuning: 50 MHz, Max Amplitude: 10 MHz, Target time: 100 ns),\n",
       " 'rydberg_local2': Rydberg(local, Max Absolute Detuning: 50 MHz, Max Amplitude: 10 MHz, Target time: 100 ns),\n",
       " 'raman_local': Raman(local, Max Absolute Detuning: 50 MHz, Max Amplitude: 10 MHz, Target time: 100 ns)}"
      ]
     },
     "execution_count": 12,
     "metadata": {},
     "output_type": "execute_result"
    }
   ],
   "source": [
    "seq.available_channels"
   ]
  },
  {
   "cell_type": "markdown",
   "metadata": {},
   "source": [
    "We're going to choose the `'rydberg_local'` and `'raman_local'` channels. Note how a declared channel is no longer reported as available."
   ]
  },
  {
   "cell_type": "code",
   "execution_count": 13,
   "metadata": {
    "scrolled": true
   },
   "outputs": [
    {
     "name": "stdout",
     "output_type": "stream",
     "text": [
      "Available channels after declaring 'ch0':\n",
      "{'rydberg_global': Rydberg(global, Max Absolute Detuning: 50 MHz, Max Amplitude: 1.25 MHz),\n",
      " 'rydberg_local': Rydberg(local, Max Absolute Detuning: 50 MHz, Max Amplitude: 10 MHz, Target time: 100 ns),\n",
      " 'rydberg_local2': Rydberg(local, Max Absolute Detuning: 50 MHz, Max Amplitude: 10 MHz, Target time: 100 ns)}\n",
      "\n",
      "Available channels after declaring 'ch1':\n",
      "{'rydberg_global': Rydberg(global, Max Absolute Detuning: 50 MHz, Max Amplitude: 1.25 MHz),\n",
      " 'rydberg_local2': Rydberg(local, Max Absolute Detuning: 50 MHz, Max Amplitude: 10 MHz, Target time: 100 ns)}\n"
     ]
    }
   ],
   "source": [
    "seq.declare_channel('ch0', 'raman_local')\n",
    "print(\"Available channels after declaring 'ch0':\")\n",
    "pprint(seq.available_channels)\n",
    "\n",
    "seq.declare_channel('ch1', 'rydberg_local', initial_target=4)\n",
    "print(\"\\nAvailable channels after declaring 'ch1':\")\n",
    "pprint(seq.available_channels)"
   ]
  },
  {
   "cell_type": "markdown",
   "metadata": {},
   "source": [
    "At any time, we can also consult which channels were declared, their specifications and the name they were given by calling:"
   ]
  },
  {
   "cell_type": "code",
   "execution_count": 14,
   "metadata": {},
   "outputs": [
    {
     "data": {
      "text/plain": [
       "{'ch0': Raman(local, Max Absolute Detuning: 50 MHz, Max Amplitude: 10 MHz, Target time: 100 ns),\n",
       " 'ch1': Rydberg(local, Max Absolute Detuning: 50 MHz, Max Amplitude: 10 MHz, Target time: 100 ns)}"
      ]
     },
     "execution_count": 14,
     "metadata": {},
     "output_type": "execute_result"
    }
   ],
   "source": [
    "seq.declared_channels"
   ]
  },
  {
   "cell_type": "markdown",
   "metadata": {},
   "source": [
    "#### 4. Composing the Sequence"
   ]
  },
  {
   "cell_type": "markdown",
   "metadata": {},
   "source": [
    "Every channel needs to start with a target. For `'global'` channels this is predefined to be all qubits in the device, but for `'local'` channels this has to be defined. This initial target can be set through at channel declaration (see how `'ch1'` was set to target qubit `4`), or it can be done through the standard `target` instruction."
   ]
  },
  {
   "cell_type": "code",
   "execution_count": 15,
   "metadata": {},
   "outputs": [],
   "source": [
    "seq.target(1, 'ch0')"
   ]
  },
  {
   "cell_type": "markdown",
   "metadata": {},
   "source": [
    "Now both channels have an initial target, so we can start building the sequence. Let's start by creating a simple pulse with a constant amplitude of 9 MHz and a constant detuning of -10 MHz that lasts 200 ns."
   ]
  },
  {
   "cell_type": "code",
   "execution_count": 17,
   "metadata": {},
   "outputs": [],
   "source": [
    "simple_pulse = Pulse.ConstantPulse(200, 9, -10, 0)"
   ]
  },
  {
   "cell_type": "markdown",
   "metadata": {},
   "source": [
    "Let's add this pulse to `'ch0'`:"
   ]
  },
  {
   "cell_type": "code",
   "execution_count": 18,
   "metadata": {},
   "outputs": [],
   "source": [
    "seq.add(simple_pulse, 'ch0')"
   ]
  },
  {
   "cell_type": "markdown",
   "metadata": {},
   "source": [
    "Now, say we want to idle `'ch1'` for 100 ns while `'ch0'` is doing its pulse. We do that by calling: "
   ]
  },
  {
   "cell_type": "code",
   "execution_count": 19,
   "metadata": {},
   "outputs": [],
   "source": [
    "seq.delay(100, 'ch1')"
   ]
  },
  {
   "cell_type": "markdown",
   "metadata": {},
   "source": [
    "Next, we want to create a more complex pulse to add to `'ch1'`, where the amplitude and the detuning are not constant. To do that, we use `Waveform`s:"
   ]
  },
  {
   "cell_type": "code",
   "execution_count": 20,
   "metadata": {},
   "outputs": [],
   "source": [
    "from waveforms import RampWaveform, GaussianWaveform\n",
    "\n",
    "duration = 1000\n",
    "amp_wf = GaussianWaveform(duration, 1, 150)   # Duration: 1000 ns, Max Amp: 1 MHz, Stdev: 150 ns\n",
    "detuning_wf = RampWaveform(duration, -20, 20)  # Duration: 1000ns, linear sweep from -20 to 20 MHz"
   ]
  },
  {
   "cell_type": "markdown",
   "metadata": {},
   "source": [
    "We can visualize a waveform by calling:"
   ]
  },
  {
   "cell_type": "code",
   "execution_count": 21,
   "metadata": {},
   "outputs": [
    {
     "data": {
      "image/png": "[encoded data removed]",
      "text/plain": [
       "<Figure size 432x288 with 1 Axes>"
      ]
     },
     "metadata": {
      "needs_background": "light"
     },
     "output_type": "display_data"
    }
   ],
   "source": [
    "amp_wf.draw()"
   ]
  },
  {
   "cell_type": "markdown",
   "metadata": {},
   "source": [
    "Also, it is often convenient to find the integral of a waveform, which can be obtain by calling:"
   ]
  },
  {
   "cell_type": "code",
   "execution_count": 22,
   "metadata": {
    "scrolled": true
   },
   "outputs": [
    {
     "data": {
      "text/plain": [
       "0.375671599924872"
      ]
     },
     "execution_count": 22,
     "metadata": {},
     "output_type": "execute_result"
    }
   ],
   "source": [
    "amp_wf.integral   # dimensionless"
   ]
  },
  {
   "cell_type": "markdown",
   "metadata": {},
   "source": [
    "We then create the pulse with the waveforms instead of fixed values and we can also visualize it:"
   ]
  },
  {
   "cell_type": "code",
   "execution_count": 23,
   "metadata": {},
   "outputs": [
    {
     "data": {
      "image/png": "[encoded data removed]",
      "text/plain": [
       "<Figure size 432x288 with 2 Axes>"
      ]
     },
     "metadata": {
      "needs_background": "light"
     },
     "output_type": "display_data"
    }
   ],
   "source": [
    "complex_pulse = Pulse(amp_wf, detuning_wf, phase=0)\n",
    "complex_pulse.draw()"
   ]
  },
  {
   "cell_type": "markdown",
   "metadata": {},
   "source": [
    "When we're satisfied, we can then add it to a channel:"
   ]
  },
  {
   "cell_type": "code",
   "execution_count": 24,
   "metadata": {},
   "outputs": [],
   "source": [
    "seq.add(complex_pulse, 'ch1')"
   ]
  },
  {
   "cell_type": "markdown",
   "metadata": {},
   "source": [
    "Let's check the schedule to see how this is looking:"
   ]
  },
  {
   "cell_type": "code",
   "execution_count": 25,
   "metadata": {
    "scrolled": false
   },
   "outputs": [
    {
     "name": "stdout",
     "output_type": "stream",
     "text": [
      "Channel: ch0\n",
      "t: 0 | Initial targets: {1}\n",
      "t: 0->200 | Pulse(Amp=9.0MHz, Detuning=-10.0MHz, Phase=0.0) | Targets: {1}\n",
      "\n",
      "Channel: ch1\n",
      "t: 0 | Initial targets: {4}\n",
      "t: 0->100 | delay | Targets: {4}\n",
      "t: 100->1100 | Pulse(Amp=Gaussian([0.0->1.0]MHz, sigma=150ns), Detuning=[-20.0->20.0]MHz, Phase=0.0) | Targets: {4}\n",
      "\n",
      "\n"
     ]
    }
   ],
   "source": [
    "print(seq)"
   ]
  },
  {
   "cell_type": "markdown",
   "metadata": {
    "scrolled": true
   },
   "source": [
    "Although we can't tell the contents of the pulses, we can see that the elements and their durations match what we did so far. "
   ]
  },
  {
   "cell_type": "markdown",
   "metadata": {},
   "source": [
    "Now, let's see how the Sequence builder handles conflicts (i.e. two channels acting on the same qubit at once). We're going to add a `complex_pulse`to `'ch0'`, but now we want to target it to qubit `4`, which is the same target of `'ch1'`."
   ]
  },
  {
   "cell_type": "code",
   "execution_count": 26,
   "metadata": {},
   "outputs": [
    {
     "name": "stdout",
     "output_type": "stream",
     "text": [
      "Current Schedule:\n",
      "Channel: ch0\n",
      "t: 0 | Initial targets: {1}\n",
      "t: 0->200 | Pulse(Amp=9.0MHz, Detuning=-10.0MHz, Phase=0.0) | Targets: {1}\n",
      "t: 200->300 | target | Targets: {4}\n",
      "t: 300->1100 | delay | Targets: {4}\n",
      "t: 1100->2100 | Pulse(Amp=Gaussian([0.0->1.0]MHz, sigma=150ns), Detuning=[-20.0->20.0]MHz, Phase=0.0) | Targets: {4}\n",
      "\n",
      "Channel: ch1\n",
      "t: 0 | Initial targets: {4}\n",
      "t: 0->100 | delay | Targets: {4}\n",
      "t: 100->1100 | Pulse(Amp=Gaussian([0.0->1.0]MHz, sigma=150ns), Detuning=[-20.0->20.0]MHz, Phase=0.0) | Targets: {4}\n",
      "\n",
      "\n"
     ]
    }
   ],
   "source": [
    "seq.target(4, 'ch0')\n",
    "seq.add(complex_pulse, 'ch0')\n",
    "\n",
    "print(\"Current Schedule:\")\n",
    "print(seq)"
   ]
  },
  {
   "cell_type": "markdown",
   "metadata": {
    "scrolled": true
   },
   "source": [
    "By looking at the current schedule, we can see that `'ch0'` was delayed from `ti=300` to `tf=1100`, and only then was the `complex_pulse` added. The reason for this is simple: it had to wait for the pulse on `ch1`, also targeted to qubit `4`, to finish before it could apply its own. It behaved this way because, in `Sequence.add` there is a default argument `protocol='min-delay`."
   ]
  },
  {
   "cell_type": "markdown",
   "metadata": {},
   "source": [
    "Another protocol for pulse addition is `wait-for-all`, which makes the new pulse wait even if there is no conflict. Let's remove the conflict and add two `simple_pulse`s to `ch1` with the different protocols to see how the compare."
   ]
  },
  {
   "cell_type": "code",
   "execution_count": 27,
   "metadata": {},
   "outputs": [
    {
     "name": "stdout",
     "output_type": "stream",
     "text": [
      "Current Schedule:\n",
      "Channel: ch0\n",
      "t: 0 | Initial targets: {1}\n",
      "t: 0->200 | Pulse(Amp=9.0MHz, Detuning=-10.0MHz, Phase=0.0) | Targets: {1}\n",
      "t: 200->300 | target | Targets: {4}\n",
      "t: 300->1100 | delay | Targets: {4}\n",
      "t: 1100->2100 | Pulse(Amp=Gaussian([0.0->1.0]MHz, sigma=150ns), Detuning=[-20.0->20.0]MHz, Phase=0.0) | Targets: {4}\n",
      "\n",
      "Channel: ch1\n",
      "t: 0 | Initial targets: {4}\n",
      "t: 0->100 | delay | Targets: {4}\n",
      "t: 100->1100 | Pulse(Amp=Gaussian([0.0->1.0]MHz, sigma=150ns), Detuning=[-20.0->20.0]MHz, Phase=0.0) | Targets: {4}\n",
      "t: 1100->1200 | target | Targets: {0}\n",
      "t: 1200->1400 | Pulse(Amp=9.0MHz, Detuning=-10.0MHz, Phase=0.0) | Targets: {0}\n",
      "t: 1400->2100 | delay | Targets: {0}\n",
      "t: 2100->2300 | Pulse(Amp=9.0MHz, Detuning=-10.0MHz, Phase=0.0) | Targets: {0}\n",
      "\n",
      "\n"
     ]
    }
   ],
   "source": [
    "seq.target(0, 'ch1')\n",
    "seq.add(simple_pulse, 'ch1', protocol='min-delay')\n",
    "seq.add(simple_pulse, 'ch1', protocol='wait-for-all')\n",
    "\n",
    "print(\"Current Schedule:\")\n",
    "print(seq)"
   ]
  },
  {
   "cell_type": "markdown",
   "metadata": {},
   "source": [
    "Because we removed the conflict by changing the target of `ch1` to qubit `0`, we see that the first pulse was added without delay from `ti=1200` to `tf=1400` (i.e. while `complex_pulse` is still running in `ch0`). However, once we changed to `protocol='wait-for-all'`, there is now a delay (from `ti=1400` to `tf=2100`) that idles `ch1` until `ch0`is finished with its pulse, even though there was no conflict."
   ]
  },
  {
   "cell_type": "markdown",
   "metadata": {},
   "source": [
    "The third protocol is called `'no-delay'` which, as the name implies, never delays the channel where the pulse is being added, even if that means introducing a conflict."
   ]
  },
  {
   "cell_type": "code",
   "execution_count": 28,
   "metadata": {},
   "outputs": [
    {
     "name": "stdout",
     "output_type": "stream",
     "text": [
      "Current Schedule:\n",
      "Channel: ch0\n",
      "t: 0 | Initial targets: {1}\n",
      "t: 0->200 | Pulse(Amp=9.0MHz, Detuning=-10.0MHz, Phase=0.0) | Targets: {1}\n",
      "t: 200->300 | target | Targets: {4}\n",
      "t: 300->1100 | delay | Targets: {4}\n",
      "t: 1100->2100 | Pulse(Amp=Gaussian([0.0->1.0]MHz, sigma=150ns), Detuning=[-20.0->20.0]MHz, Phase=0.0) | Targets: {4}\n",
      "t: 2100->2200 | target | Targets: {0}\n",
      "t: 2200->3200 | Pulse(Amp=Gaussian([0.0->1.0]MHz, sigma=150ns), Detuning=[-20.0->20.0]MHz, Phase=0.0) | Targets: {0}\n",
      "\n",
      "Channel: ch1\n",
      "t: 0 | Initial targets: {4}\n",
      "t: 0->100 | delay | Targets: {4}\n",
      "t: 100->1100 | Pulse(Amp=Gaussian([0.0->1.0]MHz, sigma=150ns), Detuning=[-20.0->20.0]MHz, Phase=0.0) | Targets: {4}\n",
      "t: 1100->1200 | target | Targets: {0}\n",
      "t: 1200->1400 | Pulse(Amp=9.0MHz, Detuning=-10.0MHz, Phase=0.0) | Targets: {0}\n",
      "t: 1400->2100 | delay | Targets: {0}\n",
      "t: 2100->2300 | Pulse(Amp=9.0MHz, Detuning=-10.0MHz, Phase=0.0) | Targets: {0}\n",
      "\n",
      "\n"
     ]
    }
   ],
   "source": [
    "seq.target(0, 'ch0')\n",
    "seq.add(complex_pulse, 'ch0', protocol='no-delay')\n",
    "\n",
    "print(\"Current Schedule:\")\n",
    "print(seq)"
   ]
  },
  {
   "cell_type": "markdown",
   "metadata": {},
   "source": [
    "With this protocol, it is possible (though not advised), to create an overlap where multiple channels can be acting on the same qubit at the same time. Here, we can see that both act on qubit `0` from `ti=2200` to `tf=2300`."
   ]
  },
  {
   "cell_type": "markdown",
   "metadata": {},
   "source": [
    "#### 5. Measurement"
   ]
  },
  {
   "cell_type": "markdown",
   "metadata": {},
   "source": [
    "To finish a sequence, we measure it. A measurement signals the end of a sequence, so after it no more changes are possible. We can measure a sequence by calling:"
   ]
  },
  {
   "cell_type": "code",
   "execution_count": 29,
   "metadata": {},
   "outputs": [],
   "source": [
    "seq.measure(basis='ground-rydberg')"
   ]
  },
  {
   "cell_type": "markdown",
   "metadata": {},
   "source": [
    "When measuring, one has to select the desired measurement basis. The availabe options depend on the device and can be consulted by calling:"
   ]
  },
  {
   "cell_type": "code",
   "execution_count": 30,
   "metadata": {},
   "outputs": [
    {
     "data": {
      "text/plain": [
       "{'digital', 'ground-rydberg'}"
      ]
     },
     "execution_count": 30,
     "metadata": {},
     "output_type": "execute_result"
    }
   ],
   "source": [
    "device.supported_basis_states"
   ]
  },
  {
   "cell_type": "code",
   "execution_count": null,
   "metadata": {},
   "outputs": [],
   "source": []
  }
 ],
 "metadata": {
  "kernelspec": {
   "display_name": "Python 3",
   "language": "python",
   "name": "python3"
  },
  "language_info": {
   "codemirror_mode": {
    "name": "ipython",
    "version": 3
   },
   "file_extension": ".py",
   "mimetype": "text/x-python",
   "name": "python",
   "nbconvert_exporter": "python",
   "pygments_lexer": "ipython3",
   "version": "3.8.5"
  }
 },
 "nbformat": 4,
 "nbformat_minor": 4
}
