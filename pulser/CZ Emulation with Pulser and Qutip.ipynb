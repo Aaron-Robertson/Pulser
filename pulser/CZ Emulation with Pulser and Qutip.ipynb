{
 "cells": [
  {
   "cell_type": "code",
   "execution_count": 1,
   "metadata": {},
   "outputs": [
    {
     "name": "stdout",
     "output_type": "stream",
     "text": [
      "simulation module...\n"
     ]
    }
   ],
   "source": [
    "from pulser import Pulse, Sequence, Register\n",
    "from pulser.devices import Chadoq2\n",
    "from simulation import Simulation\n",
    "\n",
    "from pulser.waveforms import BlackmanWaveform,ConstantWaveform"
   ]
  },
  {
   "cell_type": "code",
   "execution_count": 2,
   "metadata": {},
   "outputs": [],
   "source": [
    "import qutip\n",
    "import numpy as np\n",
    "import matplotlib.pyplot as plt"
   ]
  },
  {
   "cell_type": "code",
   "execution_count": 11,
   "metadata": {},
   "outputs": [],
   "source": [
    "def CZ(initial,distances=np.linspace(7,20,20),plots=False):\n",
    "    \"\"\"\n",
    "    Implements the CZ gate pulse sequence. A range of distances between the atoms\n",
    "    is automatically given but one can give specific values as parameters.\n",
    "    Notice that the time steps are defined automatically\n",
    "    \"\"\"\n",
    "    \n",
    "    duration = 1600\n",
    "    pi_pulse = Pulse(BlackmanWaveform(duration,np.pi),ConstantWaveform(duration,0),0)\n",
    "    twopi_pulse = Pulse(BlackmanWaveform(duration,2*np.pi),ConstantWaveform(duration,0),0)\n",
    "    \n",
    "    evolution_r =[]\n",
    "    evolution_i =[]\n",
    "    \n",
    "    for R in distances:\n",
    "        # Atom Register\n",
    "        L = 2\n",
    "        reg = Register.rectangle(1, L, spacing=R, prefix='atom')\n",
    "        \n",
    "        # Define Device \n",
    "        device = Chadoq2(reg) \n",
    "        \n",
    "        # Define sequence and Set channels\n",
    "        seq = Sequence(device)\n",
    "        seq.declare_channel('rydberg', 'rydberg_local')\n",
    "        seq.declare_channel('raman', 'raman_local') # Declared but unused so that a three-state basis is needed\n",
    "        \n",
    "        seq.target('atom1','raman') #control\n",
    "        seq.target('atom0','rydberg') #control\n",
    "        seq.add(pi_pulse,'rydberg')\n",
    "        seq.target('atom1','rydberg') #target\n",
    "        seq.add(twopi_pulse,'rydberg')\n",
    "        seq.target('atom0','rydberg') #control again\n",
    "        seq.add(pi_pulse,'rydberg')\n",
    "        #seq.draw()\n",
    "        \n",
    "        simul = Simulation(seq)\n",
    "        #No observable: We want output state\n",
    "        simul.run(plot=False)\n",
    "        state = simul.output\n",
    "\n",
    "        scalar_prod = np.vdot(initial.data.toarray(),state.data.toarray())\n",
    "        evolution_r.append(np.real(scalar_prod))\n",
    "        #evolution_i.append(np.imag(scalar_prod))\n",
    "    \n",
    "    if initial == qutip.tensor([qutip.basis(3,1),qutip.basis(3,1)]): names = 'hh' \n",
    "    if initial == qutip.tensor([qutip.basis(3,1),qutip.basis(3,2)]): names = 'hg' \n",
    "    if initial == qutip.tensor([qutip.basis(3,2),qutip.basis(3,1)]): names = 'gh' \n",
    "    if initial == qutip.tensor([qutip.basis(3,2),qutip.basis(3,2)]): names = 'gg' \n",
    "    \n",
    "    if plots:\n",
    "        plt.plot(distances,evolution_r, label=f\"Re <{names}|psi_out>\")\n",
    "        #plt.plot(distances,evolution_i,label=f\"Im <{names}|psi_out>\")\n",
    "        plt.title('Overlap with the initial state')\n",
    "        plt.legend()\n",
    "    \n",
    "    return scalar_prod"
   ]
  },
  {
   "cell_type": "code",
   "execution_count": null,
   "metadata": {},
   "outputs": [],
   "source": [
    "states = [qutip.tensor([qutip.basis(3,1),qutip.basis(3,1)]), \n",
    "          qutip.tensor([qutip.basis(3,1),qutip.basis(3,2)]),\n",
    "          qutip.tensor([qutip.basis(3,2),qutip.basis(3,1)]),\n",
    "          qutip.tensor([qutip.basis(3,2),qutip.basis(3,2)])\n",
    "         ]\n",
    "\n",
    "for initial in states:\n",
    "    CZ(initial, plots=True)"
   ]
  },
  {
   "cell_type": "code",
   "execution_count": null,
   "metadata": {},
   "outputs": [],
   "source": []
  }
 ],
 "metadata": {
  "kernelspec": {
   "display_name": "Python 3",
   "language": "python",
   "name": "python3"
  },
  "language_info": {
   "codemirror_mode": {
    "name": "ipython",
    "version": 3
   },
   "file_extension": ".py",
   "mimetype": "text/x-python",
   "name": "python",
   "nbconvert_exporter": "python",
   "pygments_lexer": "ipython3",
   "version": "3.9.0"
  }
 },
 "nbformat": 4,
 "nbformat_minor": 4
}
