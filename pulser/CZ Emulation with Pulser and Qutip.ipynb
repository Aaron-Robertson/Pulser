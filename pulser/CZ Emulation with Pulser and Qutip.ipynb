{
 "cells": [
  {
   "cell_type": "code",
   "execution_count": 1,
   "metadata": {},
   "outputs": [
    {
     "name": "stdout",
     "output_type": "stream",
     "text": [
      "simulation module...\n"
     ]
    }
   ],
   "source": [
    "from pulser import Pulse, Sequence, Register\n",
    "from pulser.devices import Chadoq2\n",
    "from simulation import Simulation\n",
    "\n",
    "from pulser.waveforms import BlackmanWaveform,ConstantWaveform"
   ]
  },
  {
   "cell_type": "code",
   "execution_count": 2,
   "metadata": {},
   "outputs": [],
   "source": [
    "import qutip\n",
    "import numpy as np\n",
    "import matplotlib.pyplot as plt"
   ]
  },
  {
   "cell_type": "markdown",
   "metadata": {},
   "source": [
    "# CZ Gate Implementation"
   ]
  },
  {
   "cell_type": "code",
   "execution_count": 21,
   "metadata": {},
   "outputs": [],
   "source": [
    "def CZ(initial,distances):\n",
    "    \"\"\"\n",
    "    Implements pulses to excite atoms and control the final state\n",
    "    \"\"\"\n",
    "    \n",
    "    duration = 500\n",
    "    pi = Pulse(BlackmanWaveform(duration,np.pi/(4*duration)),ConstantWaveform(duration,0),0)\n",
    "    twopi = Pulse(BlackmanWaveform(duration,2*np.pi/(4*duration)),ConstantWaveform(duration,0),0)\n",
    "    \n",
    "    sequence = [[pi,'rydberg'], [twopi,'rydberg2'], [pi,'rydberg']]\n",
    "    \n",
    "    evolution =[]\n",
    "    \n",
    "    for R in distances:\n",
    "        # Atom Register and Device\n",
    "        L = 2\n",
    "        reg = Register.rectangle(1, L, spacing=R, prefix='atom')\n",
    "        device = Chadoq2(reg) \n",
    "        #reg.draw()\n",
    "        \n",
    "        state = initial #begin with initial state\n",
    "        for pulse,channel in sequence:\n",
    "            \n",
    "            # Define sequence and Set channels\n",
    "            seq = Sequence(device)\n",
    "            seq.declare_channel('rydberg', 'rydberg_local', initial_target='atom0') #Atom 0 will be control\n",
    "            seq.declare_channel('rydberg2', 'rydberg_local2', initial_target='atom1') #Atom 1 will be target\n",
    "            seq.declare_channel('raman', 'raman_local', initial_target='atom1') # Idle so that 3-state basis is used\n",
    "\n",
    "            seq.add(pulse,channel)#, protocol=\"wait-for-all\") \n",
    "            \n",
    "            seq.delay(seq.current_duration(),'raman')\n",
    "            #seq.draw()\n",
    "            \n",
    "            simul = Simulation(seq)\n",
    "            simul.run(initial_state = state, plot=False) #output will be final state\n",
    "            state = simul.output #update state after pulse\n",
    "        \n",
    "        #seq.draw()\n",
    "        #print(seq._schedule['rydberg'])\n",
    "        \n",
    "        res = np.vdot(initial.data.toarray(),state.data.toarray())\n",
    "            \n",
    "        #print(f'R = {R}. VdW = {1e6 / (R**6)}.  Expectation Value = {expectation_val}')\n",
    "        evolution.append(res)\n",
    "\n",
    "    return evolution"
   ]
  },
  {
   "cell_type": "code",
   "execution_count": 22,
   "metadata": {},
   "outputs": [
    {
     "name": "stdout",
     "output_type": "stream",
     "text": [
      "Changing Initial State\n",
      "(-0.9999998576019401-0.0005336426275937676j)\n",
      "Changing Initial State\n",
      "(-0.9999999999954451+0j)\n",
      "Changing Initial State\n",
      "(-0.9999999998904782+0j)\n",
      "Changing Initial State\n",
      "(1+0j)\n"
     ]
    },
    {
     "data": {
      "image/png": "[encoded data removed]",
      "text/plain": [
       "<Figure size 432x288 with 1 Axes>"
      ]
     },
     "metadata": {
      "needs_background": "light"
     },
     "output_type": "display_data"
    }
   ],
   "source": [
    "gg = qutip.tensor([qutip.basis(3,1),qutip.basis(3,1)])\n",
    "gh = qutip.tensor([qutip.basis(3,1),qutip.basis(3,2)])\n",
    "hg = qutip.tensor([qutip.basis(3,2),qutip.basis(3,1)])\n",
    "hh = qutip.tensor([qutip.basis(3,2),qutip.basis(3,2)])\n",
    "\n",
    "states = [gg,gh,hg,hh] \n",
    "\n",
    "distances = np.linspace(5,35,15)\n",
    "for initial in states:\n",
    "    print('Changing Initial State')\n",
    "    evolution = CZ(initial,distances)\n",
    "    print(evolution[0])\n",
    "    \n",
    "    plt.plot(distances, np.real(evolution), label=fr\"$\\langle \\psi_i|\\psi_f\\rangle$\")\n",
    "    #plt.plot(distances,evolution_i, label=fr\"Im$|\\psi_0\\rangle = |${names}$\\rangle$\")\n",
    "    plt.title('Overlap with the initial state')\n",
    "    plt.legend()\n",
    "\n",
    "    "
   ]
  },
  {
   "cell_type": "code",
   "execution_count": null,
   "metadata": {},
   "outputs": [],
   "source": []
  }
 ],
 "metadata": {
  "kernelspec": {
   "display_name": "Python 3",
   "language": "python",
   "name": "python3"
  },
  "language_info": {
   "codemirror_mode": {
    "name": "ipython",
    "version": 3
   },
   "file_extension": ".py",
   "mimetype": "text/x-python",
   "name": "python",
   "nbconvert_exporter": "python",
   "pygments_lexer": "ipython3",
   "version": "3.9.0"
  }
 },
 "nbformat": 4,
 "nbformat_minor": 4
}
