{
 "cells": [
  {
   "cell_type": "code",
   "execution_count": 1,
   "metadata": {},
   "outputs": [],
   "source": [
    "from pulser import Pulse, Sequence, Register\n",
    "from pulser.devices import Chadoq2"
   ]
  },
  {
   "cell_type": "code",
   "execution_count": 2,
   "metadata": {},
   "outputs": [
    {
     "name": "stdout",
     "output_type": "stream",
     "text": [
      "simulation module...\n"
     ]
    }
   ],
   "source": [
    "from simulation import Simulation"
   ]
  },
  {
   "cell_type": "code",
   "execution_count": 3,
   "metadata": {},
   "outputs": [],
   "source": [
    "from pulser.waveforms import RampWaveform, GaussianWaveform\n",
    "\n",
    "def qubits_benchmark(N):\n",
    "    number_atoms = N\n",
    "    reg = Register.rectangle(1, number_atoms, spacing=4.9,prefix='q')\n",
    "    device = Chadoq2(reg) \n",
    "    #reg.draw()\n",
    "\n",
    "    #Define sequence and Set channels\n",
    "    seq = Sequence(device)\n",
    "    seq.declare_channel('local', 'raman_local')\n",
    "    seq.declare_channel('global', 'rydberg_global')\n",
    "\n",
    "    duration = 300\n",
    "    amp_wf = GaussianWaveform(duration, 1, 150)   # Duration: 300 ns, Max Amp: 1 MHz, Stdev: 150 ns\n",
    "    detuning_wf = RampWaveform(duration, -20, 20)  # Duration: 300ns, linear sweep from -20 to 20 MHz\n",
    "\n",
    "    complex_pulse = Pulse(amp_wf, detuning_wf, phase=20)\n",
    "    #complex_pulse.draw()\n",
    "\n",
    "    seq.target('q1','local')\n",
    "    seq.add(complex_pulse, 'local')\n",
    "    seq.add(complex_pulse, 'global')\n",
    "    #seq.draw()\n",
    "    \n",
    "    my_experiment = Simulation(seq,reg)\n",
    "    pauli_Z = my_experiment._operators['rydZ']\n",
    "    my_experiment.simulate(pauli_Z,plot=False)\n",
    "    \n",
    "def sequence_benchmark(N):\n",
    "    number_atoms = 2\n",
    "    reg = Register.rectangle(1, number_atoms, spacing=4.9,prefix='q')\n",
    "    device = Chadoq2(reg) \n",
    "    #reg.draw()\n",
    "\n",
    "    #Define sequence and Set channels\n",
    "    seq = Sequence(device)\n",
    "    seq.declare_channel('local', 'raman_local')\n",
    "    seq.declare_channel('global', 'rydberg_global')\n",
    "\n",
    "    duration = 300\n",
    "    amp_wf = GaussianWaveform(duration, 1, 150)   \n",
    "    detuning_wf = RampWaveform(duration, -20, 20)  \n",
    "\n",
    "    complex_pulse = Pulse(amp_wf, detuning_wf, phase=20)\n",
    "    #complex_pulse.draw()\n",
    "\n",
    "    seq.target('q1','local')\n",
    "    for _ in range(N):\n",
    "        seq.add(complex_pulse, 'local')\n",
    "        seq.add(complex_pulse, 'global')\n",
    "        #seq.draw()    \n",
    "        \n",
    "    my_experiment = Simulation(seq,reg)\n",
    "    pauli_Z = my_experiment._operators['rydZ']\n",
    "    my_experiment.simulate(pauli_Z,plot=False)\n",
    "    "
   ]
  },
  {
   "cell_type": "code",
   "execution_count": 4,
   "metadata": {},
   "outputs": [
    {
     "name": "stdout",
     "output_type": "stream",
     "text": [
      "Number of qubits: 2\n",
      "1.54 s ± 152 ms per loop (mean ± std. dev. of 7 runs, 1 loop each)\n",
      "Number of qubits: 3\n",
      "2.63 s ± 106 ms per loop (mean ± std. dev. of 7 runs, 1 loop each)\n"
     ]
    }
   ],
   "source": [
    "import timeit\n",
    "results = []\n",
    "\n",
    "for k in range(2,4):\n",
    "    print(f'Number of qubits: {k}')\n",
    "    times = %timeit -o qubits_benchmark(k)\n",
    "    results.append(times)"
   ]
  },
  {
   "cell_type": "code",
   "execution_count": 5,
   "metadata": {},
   "outputs": [
    {
     "data": {
      "text/plain": [
       "[<matplotlib.lines.Line2D at 0x7f8dc7a77f70>]"
      ]
     },
     "execution_count": 5,
     "metadata": {},
     "output_type": "execute_result"
    },
    {
     "data": {
      "image/png": "[encoded data removed]",
      "text/plain": [
       "<Figure size 432x288 with 1 Axes>"
      ]
     },
     "metadata": {
      "needs_background": "light"
     },
     "output_type": "display_data"
    }
   ],
   "source": [
    "import matplotlib.pyplot as plt\n",
    "\n",
    "mean_times = [r.average for r in results]\n",
    "plt.plot(range(2,4),mean_times)"
   ]
  },
  {
   "cell_type": "code",
   "execution_count": 10,
   "metadata": {},
   "outputs": [
    {
     "name": "stdout",
     "output_type": "stream",
     "text": [
      "number of pulses = 12\n",
      "8.67 s ± 142 ms per loop (mean ± std. dev. of 7 runs, 1 loop each)\n",
      "number of pulses = 14\n",
      "9.72 s ± 186 ms per loop (mean ± std. dev. of 7 runs, 1 loop each)\n"
     ]
    }
   ],
   "source": [
    "#results = []\n",
    "\n",
    "for k in range(6,8):\n",
    "    print(f'number of pulses = {2*k}')\n",
    "    times = %timeit -o sequence_benchmark(k)\n",
    "    results.append(times)"
   ]
  },
  {
   "cell_type": "code",
   "execution_count": 11,
   "metadata": {},
   "outputs": [
    {
     "data": {
      "text/plain": [
       "[<matplotlib.lines.Line2D at 0x7f8dc85107f0>]"
      ]
     },
     "execution_count": 11,
     "metadata": {},
     "output_type": "execute_result"
    },
    {
     "data": {
      "image/png": "[encoded data removed]",
      "text/plain": [
       "<Figure size 432x288 with 1 Axes>"
      ]
     },
     "metadata": {
      "needs_background": "light"
     },
     "output_type": "display_data"
    }
   ],
   "source": [
    "import numpy as np\n",
    "\n",
    "mean_times = [r.average for r in results]\n",
    "plt.plot(np.arange(1,8),mean_times)"
   ]
  },
  {
   "cell_type": "code",
   "execution_count": null,
   "metadata": {},
   "outputs": [],
   "source": []
  }
 ],
 "metadata": {
  "kernelspec": {
   "display_name": "Python 3",
   "language": "python",
   "name": "python3"
  },
  "language_info": {
   "codemirror_mode": {
    "name": "ipython",
    "version": 3
   },
   "file_extension": ".py",
   "mimetype": "text/x-python",
   "name": "python",
   "nbconvert_exporter": "python",
   "pygments_lexer": "ipython3",
   "version": "3.9.0"
  }
 },
 "nbformat": 4,
 "nbformat_minor": 4
}
